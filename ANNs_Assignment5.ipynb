{
  "cells": [
    {
      "cell_type": "markdown",
      "metadata": {
        "id": "Fp17OlOw_AQv"
      },
      "source": [
        "# Homework 05"
      ]
    },
    {
      "cell_type": "markdown",
      "metadata": {
        "id": "8xyDVVA8_DkF"
      },
      "source": [
        "Training a CNN for CIFAR-10 data"
      ]
    },
    {
      "cell_type": "code",
      "execution_count": 1,
      "metadata": {
        "id": "pe7j6pzZ-4nE"
      },
      "outputs": [],
      "source": [
        "import tensorflow as tf\n",
        "import tensorflow_datasets as tfds\n",
        "import numpy as np\n",
        "import matplotlib.pyplot as plt\n",
        "import tensorflow.keras.layers"
      ]
    },
    {
      "cell_type": "markdown",
      "metadata": {
        "id": "ESqwpSdlEOjQ"
      },
      "source": [
        "information on the dataset:\n",
        "- 60.000 colour images (5:1 ratio for training and test iamges)\n",
        "- labeled with 10 classes (6.000 images per class)\n",
        "- feature dictionary comes with:\n",
        "  - id (string)\n",
        "  - image (uint8) -> shape (32, 32, 3) -> 3 is the colour channel (r,g,b)\n",
        "  - label (int64)"
      ]
    },
    {
      "cell_type": "code",
      "execution_count": 2,
      "metadata": {
        "colab": {
          "base_uri": "https://localhost:8080/",
          "height": 1000,
          "referenced_widgets": [
            "f96ffc56e2b04a418872de346d8d1815",
            "960e91f7cfbf42869f4c6591edc8866a",
            "c73e7091b27848f29dcaca9ccbf375be",
            "c54bbed51b844d21b933145839c0e42d",
            "68affb9bfdd84526851b36c4ea61cb38",
            "e87f4617271e4b7896476101dbf3e387",
            "8efacc82c15347a8a4f9bbba2f88d4ef",
            "817621cdd81148e7bac1d6a357bf144d",
            "adedb5e2d2094a71a7ca0add5090c199",
            "dc76ce4cc4ff4ff581ff828882ba11ec",
            "6aa2427c9eb04010a0055bfc6c608044",
            "ac8b71327fcb4d1f80c2bad6b6ee87a7",
            "e77bf70a2b184ac7a14cf7161c36118d",
            "cff8164160e6473b9c9f5fd485ba00a3",
            "61e28f35296f417f8253eaf85b102149",
            "276bb8f22c6a4a2b9479a6b2eda0f2e6",
            "618bdbe681a144a6bc0e85d719c70413",
            "634b4920ed6249b6b803bddc56725938",
            "ed0a2dae57b042878ac5ee1a9116bf4c",
            "d882f71611c44dbabd9e5a1c8016df13",
            "3480f15e20e34176888df0715821b600",
            "5731e4cfca364d599626f1084d10e4ce",
            "6ca560e1b65d485185cda203b7c3db67",
            "c40c4b28245d4aa7a9b121db3f6ea865",
            "7af01ac263664a2b9593019d6473b783",
            "5e2afcb3df424f8387b84e0aa6c6e561",
            "21e3ac284e234f9aaabb2fb6a6c4f960",
            "946a8c2246624ca58d86668140ac0f6c",
            "520185c3cebe44f2b43d4a0d388790f4",
            "d8106b3a17514023b37cd069453f3297",
            "675093179beb4b5fbf0ab352b89be32f",
            "b861fc5654fa4a389501bee769a40983",
            "af15c06015d14c649e5ce01882b19803",
            "09c4d016760140c6bca142c4471d347e",
            "a6909652f5914bd9a90c5694e2093716",
            "7cb0015842d5471395d1d4afb3d217e6",
            "d7c7a06df84d4f0e95bb7fcfee39747e",
            "94f275f7a62649ec8c48e157b0fe3a01",
            "dbc961479c1046a98f4459b20107b804",
            "44de1f4d5e0049c9803a339a3e8ca781",
            "5dcb731c4295425dbafabe5819edd15a",
            "fe4bc1fe9ece463e9f9d395e3bee2528",
            "6060e34144bc4efd83865a9d1feeb0b8",
            "82606e5c97ed4940b0aa2a430ee20905",
            "1ef0232d827c4708b0febca72fbd6b78",
            "a674d36da63e426881e6c6b531596e35",
            "930cd213607d437d85f9004af94e9d12",
            "d1b60e4dddaf4fc18f1f4cb2204ae0e0",
            "bfbc51f41241471a8b0df7fa4a0fd01a",
            "e465e27f27574bf09840f6b80410c0bf",
            "070998da2722435ba3c3fc6949516584",
            "403380f01b794f04a6d2de8bfe2d7767",
            "4d10a37888294b92812cf294ffffb39e",
            "da9eafba83d24e6da963ef80466a7f35",
            "5223029b91474034babaa8f3db05b709",
            "be0e4565d06443f5b5429e8eee12cc81",
            "e77bee025e9a47a6ba43c9aa894c1cf2",
            "354317b101cb432998aecc282330a18a",
            "0a41db1f8bf447cfbaa49b6f28565e5a",
            "48267d4b431449d7af4efaa816e3f54f",
            "0a487493140c458582413ffba19af8ad",
            "67f14c524c4a4c479914b01df2f792a7",
            "2447a49c71bf41ebab2b382d281f8baf",
            "8c2105e31bdf439ba49d4d2c0dc8f0d3",
            "e4e2363b06134167be010a3c48ac2425",
            "747aadf54fb14583b3511ff62f2f851f",
            "580e82eea7cc478a9da26b61a1a771bd",
            "ef0595821cb049d4b631b6b3e92c5288",
            "b3037bf1dd3b415da49a0ce8b4b7a0a1",
            "3a91ae02df7f4e29a4b40957d1b80cdb",
            "210c22693b264ddb865670c9b2637f28",
            "0619d032a52a4e44a75a25c46d3a8534",
            "3c96ca8a74ca49c08b49c65d1470c8d4",
            "7bf45b286af045f0aea2e32e6eef1c1b",
            "b956035b57534df69476b25f5e41488f",
            "e5709aa71ef6486092e749362f836efc",
            "2ef98ef62ac34661966c425e16754a6b",
            "206cb0fd084f46b6ae374aa9b6844dc5",
            "9cb2f94fe7a04c66816d87a07587427b",
            "7d293951d8ac456aba13a8b2097007ec",
            "bf1df6fde00c492a8de38fed74552697",
            "0a88947b77064e84ab16a23165416583",
            "8a92adfbb7f842b2b6b052bd8ee97b64",
            "10df338b98214068a7d7f841fdc6268e",
            "767c63e180c04d14a20dd67c21a04f1e",
            "996aedeb5d2341d0b91f2c120b6588fc",
            "c43ee6c0a256404db01e44544339dcf4",
            "9ea1133c5f8f490694d90973aa4f3218"
          ]
        },
        "id": "RSPBTAvLEOQT",
        "outputId": "b2f57619-3ca2-44a5-dbae-c702e616e597"
      },
      "outputs": [
        {
          "output_type": "stream",
          "name": "stdout",
          "text": [
            "Downloading and preparing dataset 162.17 MiB (download: 162.17 MiB, generated: 132.40 MiB, total: 294.58 MiB) to /root/tensorflow_datasets/cifar10/3.0.2...\n"
          ]
        },
        {
          "output_type": "display_data",
          "data": {
            "text/plain": [
              "Dl Completed...: 0 url [00:00, ? url/s]"
            ],
            "application/vnd.jupyter.widget-view+json": {
              "version_major": 2,
              "version_minor": 0,
              "model_id": "f96ffc56e2b04a418872de346d8d1815"
            }
          },
          "metadata": {}
        },
        {
          "output_type": "display_data",
          "data": {
            "text/plain": [
              "Dl Size...: 0 MiB [00:00, ? MiB/s]"
            ],
            "application/vnd.jupyter.widget-view+json": {
              "version_major": 2,
              "version_minor": 0,
              "model_id": "ac8b71327fcb4d1f80c2bad6b6ee87a7"
            }
          },
          "metadata": {}
        },
        {
          "output_type": "display_data",
          "data": {
            "text/plain": [
              "Extraction completed...: 0 file [00:00, ? file/s]"
            ],
            "application/vnd.jupyter.widget-view+json": {
              "version_major": 2,
              "version_minor": 0,
              "model_id": "6ca560e1b65d485185cda203b7c3db67"
            }
          },
          "metadata": {}
        },
        {
          "output_type": "display_data",
          "data": {
            "text/plain": [
              "Generating splits...:   0%|          | 0/2 [00:00<?, ? splits/s]"
            ],
            "application/vnd.jupyter.widget-view+json": {
              "version_major": 2,
              "version_minor": 0,
              "model_id": "09c4d016760140c6bca142c4471d347e"
            }
          },
          "metadata": {}
        },
        {
          "output_type": "display_data",
          "data": {
            "text/plain": [
              "Generating train examples...:   0%|          | 0/50000 [00:00<?, ? examples/s]"
            ],
            "application/vnd.jupyter.widget-view+json": {
              "version_major": 2,
              "version_minor": 0,
              "model_id": "1ef0232d827c4708b0febca72fbd6b78"
            }
          },
          "metadata": {}
        },
        {
          "output_type": "display_data",
          "data": {
            "text/plain": [
              "Shuffling /root/tensorflow_datasets/cifar10/3.0.2.incomplete3WFP0I/cifar10-train.tfrecord*...:   0%|          …"
            ],
            "application/vnd.jupyter.widget-view+json": {
              "version_major": 2,
              "version_minor": 0,
              "model_id": "be0e4565d06443f5b5429e8eee12cc81"
            }
          },
          "metadata": {}
        },
        {
          "output_type": "display_data",
          "data": {
            "text/plain": [
              "Generating test examples...:   0%|          | 0/10000 [00:00<?, ? examples/s]"
            ],
            "application/vnd.jupyter.widget-view+json": {
              "version_major": 2,
              "version_minor": 0,
              "model_id": "580e82eea7cc478a9da26b61a1a771bd"
            }
          },
          "metadata": {}
        },
        {
          "output_type": "display_data",
          "data": {
            "text/plain": [
              "Shuffling /root/tensorflow_datasets/cifar10/3.0.2.incomplete3WFP0I/cifar10-test.tfrecord*...:   0%|          |…"
            ],
            "application/vnd.jupyter.widget-view+json": {
              "version_major": 2,
              "version_minor": 0,
              "model_id": "206cb0fd084f46b6ae374aa9b6844dc5"
            }
          },
          "metadata": {}
        },
        {
          "output_type": "stream",
          "name": "stdout",
          "text": [
            "Dataset cifar10 downloaded and prepared to /root/tensorflow_datasets/cifar10/3.0.2. Subsequent calls will reuse this data.\n"
          ]
        },
        {
          "output_type": "display_data",
          "data": {
            "text/plain": [
              "<Figure size 900x900 with 9 Axes>"
            ],
            "image/png": "[encoded data removed]"
          },
          "metadata": {}
        },
        {
          "output_type": "execute_result",
          "data": {
            "text/plain": [
              "<Figure size 900x900 with 9 Axes>"
            ],
            "image/png": "[encoded data removed]"
          },
          "metadata": {},
          "execution_count": 2
        }
      ],
      "source": [
        "(train_ds, test_ds), ds_info = tfds.load(name='cifar10', split=['train', 'test'], as_supervised=True, with_info=True)\n",
        "tfds.show_examples(train_ds, ds_info)"
      ]
    },
    {
      "cell_type": "markdown",
      "metadata": {
        "id": "vhbgqLHR_ZiR"
      },
      "source": [
        "## 1.1 Prepare the dataset"
      ]
    },
    {
      "cell_type": "code",
      "execution_count": 3,
      "metadata": {
        "id": "wJS2_cM__jqC"
      },
      "outputs": [],
      "source": [
        "def prep_data(img, target):\n",
        "\n",
        "  # no reshaping/flattening needed since we use CNNs\n",
        "  # convert img values to float\n",
        "  img = tf.cast(img, tf.float32)\n",
        "  # pseudo-normalize image values\n",
        "  img = img/128-1\n",
        "  # one hot encode the targets\n",
        "  target = tf.one_hot(target, depth=10)\n",
        "\n",
        "  return img, target\n",
        "\n",
        "def load_and_prep_data(batch_size, shuffle_buffer_size):\n",
        "\n",
        "  # load the tensorflow dataset\n",
        "  train_ds, test_ds = tfds.load(name='cifar10', split=['train', 'test'], as_supervised=True)\n",
        "\n",
        "  # preprocess the data\n",
        "  train_ds = train_ds.map(lambda img, target: prep_data(img, target))\n",
        "  test_ds = test_ds.map(lambda img, target: prep_data(img, target))\n",
        "\n",
        "  # suffle, batch, prefetch the data\n",
        "  train_ds = train_ds.shuffle(shuffle_buffer_size).batch(batch_size).prefetch(2)\n",
        "  test_ds = test_ds.shuffle(shuffle_buffer_size).batch(batch_size).prefetch(2)\n",
        "\n",
        "  return train_ds, test_ds"
      ]
    },
    {
      "cell_type": "markdown",
      "metadata": {
        "id": "mr9t5M30IEjA"
      },
      "source": [
        "## 1.2 The CNN Model\n",
        "\n",
        "in VGG style"
      ]
    },
    {
      "cell_type": "markdown",
      "source": [
        "### Model 1"
      ],
      "metadata": {
        "id": "V_n1-Hy40Hmw"
      }
    },
    {
      "cell_type": "code",
      "execution_count": 4,
      "metadata": {
        "id": "2zbKJNRbIU1x"
      },
      "outputs": [],
      "source": [
        "class cifar10Model1(tf.keras.Model):\n",
        "\n",
        "  def __init__(self):\n",
        "    super(cifar10Model1, self).__init__()\n",
        "\n",
        "    # defining the CNN model\n",
        "    # shape of the input (disregarding batching): 32x32x1\n",
        "\n",
        "    # block 1\n",
        "    self.convl1 = tf.keras.layers.Conv2D(filters=24, kernel_size=3, strides=1, padding='same', activation='relu') # expanding last output dimension by 24: input: 32x32x1, output: 32x32x24\n",
        "    self.convl2 = tf.keras.layers.Conv2D(filters=24, kernel_size=3, strides=1, padding='same', activation='relu') # input: 32x32x24, output: 32x32x24\n",
        "    self.convl3 = tf.keras.layers.Conv2D(filters=24, kernel_size=3, strides=1, padding='same', activation='relu') # input: 32x32x24, output: 32x32x24\n",
        "    self.pool1 = tf.keras.layers.MaxPooling2D(pool_size=2, strides=2) # dividing image size by 2: # input: 32x32x24, output: 16x16x24\n",
        "\n",
        "    # block 2\n",
        "    self.convl4 = tf.keras.layers.Conv2D(filters=24, kernel_size=3, strides=1, padding='same', activation='relu') # expanding last output dimension by 24: input: 16x16x24, output: 16x16x48\n",
        "    self.convl5 = tf.keras.layers.Conv2D(filters=24, kernel_size=3, strides=1, padding='same', activation='relu') # input: 16x16x48, output: 16x16x48\n",
        "    self.convl6 = tf.keras.layers.Conv2D(filters=24, kernel_size=3, strides=1, padding='same', activation='relu') # input: 16x16x48, output: 16x16x48\n",
        "    #self.pool2 = tf.keras.layers.GlobalMaxPooling2D(pool_size=2, strides=2) # dividing image size by 2:  # input: 16x16x48, output: 8x8x48\n",
        "    self.global_pool = tf.keras.layers.GlobalAvgPool2D() # vectorizing the image:  # input: 16x16x48, output: 1x1x48\n",
        "\n",
        "    self.out = tf.keras.layers.Dense(10, activation='softmax')\n",
        "\n",
        "\n",
        "  def call(self, x):\n",
        "\n",
        "    # forward propagation block 1\n",
        "    x = self.convl1(x)\n",
        "    x = self.convl2(x)\n",
        "    x = self.convl3(x)\n",
        "    x = self.pool1(x)\n",
        "\n",
        "    # forward propagation block2\n",
        "    x = self.convl4(x)\n",
        "    x = self.convl5(x)\n",
        "    x = self.convl6(x)\n",
        "    x = self.global_pool(x)\n",
        "\n",
        "    # output layer propagation\n",
        "    x = self.out(x)\n",
        "\n",
        "    return x"
      ]
    },
    {
      "cell_type": "markdown",
      "source": [
        "### Model 2"
      ],
      "metadata": {
        "id": "bLo3anex0JrI"
      }
    },
    {
      "cell_type": "markdown",
      "source": [
        "A second CNN Model to explore the influence of model architecture parameters (task 2) like:\n",
        "- number of layers\n",
        "- size of layers"
      ],
      "metadata": {
        "id": "SDbv8k2MxHr8"
      }
    },
    {
      "cell_type": "code",
      "source": [
        "class cifar10Model2(tf.keras.Model):\n",
        "\n",
        "  def __init__(self):\n",
        "    super(cifar10Model2, self).__init__()\n",
        "\n",
        "    # defining the CNN model\n",
        "    # shape of the input (disregarding batching): 32x32x1\n",
        "\n",
        "    # block 1\n",
        "    self.convl1 = tf.keras.layers.Conv2D(filters=24, kernel_size=3, strides=1, padding='same', activation='relu') # expanding last output dimension by 24: input: 32x32x1, output: 32x32x24\n",
        "    self.convl2 = tf.keras.layers.Conv2D(filters=24, kernel_size=3, strides=1, padding='same', activation='relu') # input: 32x32x24, output: 32x32x24\n",
        "    self.convl3 = tf.keras.layers.Conv2D(filters=24, kernel_size=3, strides=1, padding='same', activation='relu') # input: 32x32x24, output: 32x32x24\n",
        "    self.pool1 = tf.keras.layers.MaxPooling2D(pool_size=2, strides=2) # dividing image size by 2: # input: 32x32x24, output: 16x16x24\n",
        "\n",
        "    # block 2\n",
        "    self.convl4 = tf.keras.layers.Conv2D(filters=24, kernel_size=3, strides=1, padding='same', activation='relu') # expanding last output dimension by 24: input: 16x16x24, output: 16x16x48\n",
        "    self.convl5 = tf.keras.layers.Conv2D(filters=24, kernel_size=3, strides=1, padding='same', activation='relu') # input: 16x16x48, output: 16x16x48\n",
        "    self.convl6 = tf.keras.layers.Conv2D(filters=24, kernel_size=3, strides=1, padding='same', activation='relu') # input: 16x16x48, output: 16x16x48\n",
        "    self.pool2 = tf.keras.layers.MaxPooling2D(pool_size=2, strides=2) # dividing image size by 2:  # input: 16x16x48, output: 8x8x48\n",
        "\n",
        "    # block 3\n",
        "    self.convl7 = tf.keras.layers.Conv2D(filters=24, kernel_size=3, strides=1, padding='same', activation='relu') # expanding last output dimension by 24: input: 8x8x48, output: 8x8x72\n",
        "    self.convl8 = tf.keras.layers.Conv2D(filters=24, kernel_size=3, strides=1, padding='same', activation='relu') # input: 8x8x72, output: 8x8x72\n",
        "    self.convl9 = tf.keras.layers.Conv2D(filters=24, kernel_size=3, strides=1, padding='same', activation='relu') # input: 8x8x72, output: 8x8x72\n",
        "    self.global_pool = tf.keras.layers.GlobalAvgPool2D() # vectorizing the image:  # input: 8x8x72, output: 1x1x72\n",
        "\n",
        "    self.out = tf.keras.layers.Dense(10, activation='softmax')\n",
        "\n",
        "\n",
        "  def call(self, x):\n",
        "\n",
        "    # forward propagation block 1\n",
        "    x = self.convl1(x)\n",
        "    x = self.convl2(x)\n",
        "    x = self.convl3(x)\n",
        "    x = self.pool1(x)\n",
        "\n",
        "    # forward propagation block2\n",
        "    x = self.convl4(x)\n",
        "    x = self.convl5(x)\n",
        "    x = self.convl6(x)\n",
        "    x = self.pool2(x)\n",
        "\n",
        "    # forward propagation block3\n",
        "    x = self.convl7(x)\n",
        "    x = self.convl8(x)\n",
        "    x = self.convl9(x)\n",
        "\n",
        "    x = self.global_pool(x)\n",
        "\n",
        "    # output layer propagation\n",
        "    x = self.out(x)\n",
        "\n",
        "    return x"
      ],
      "metadata": {
        "id": "cR5t3ehfxHFh"
      },
      "execution_count": 29,
      "outputs": []
    },
    {
      "cell_type": "markdown",
      "source": [
        "### Model 3"
      ],
      "metadata": {
        "id": "CP0pTXEx0NwJ"
      }
    },
    {
      "cell_type": "code",
      "source": [
        "class cifar10Model3(tf.keras.Model):\n",
        "\n",
        "  def __init__(self):\n",
        "    super(cifar10Model3, self).__init__()\n",
        "\n",
        "    # defining the CNN model\n",
        "    # shape of the input (disregarding batching): 32x32x1\n",
        "\n",
        "    # block 1\n",
        "    self.convl1 = tf.keras.layers.Conv2D(filters=48, kernel_size=3, strides=1, padding='same', activation='relu') # expanding last output dimension by 48: input: 32x32x1, output: 32x32x48\n",
        "    self.convl2 = tf.keras.layers.Conv2D(filters=48, kernel_size=3, strides=1, padding='same', activation='relu') # input: 32x32x48, output: 32x32x48\n",
        "    self.convl3 = tf.keras.layers.Conv2D(filters=48, kernel_size=3, strides=1, padding='same', activation='relu') # input: 32x32x48, output: 32x32x48\n",
        "    self.pool1 = tf.keras.layers.MaxPooling2D(pool_size=2, strides=2) # dividing image size by 2: # input: 32x32x48, output: 16x16x48\n",
        "\n",
        "    # block 2\n",
        "    self.convl4 = tf.keras.layers.Conv2D(filters=48, kernel_size=3, strides=1, padding='same', activation='relu') # expanding last output dimension by 48: input: 16x16x48, output: 16x16x96\n",
        "    self.convl5 = tf.keras.layers.Conv2D(filters=48, kernel_size=3, strides=1, padding='same', activation='relu') # input: 16x16x96, output: 16x16x96\n",
        "    self.convl6 = tf.keras.layers.Conv2D(filters=48, kernel_size=3, strides=1, padding='same', activation='relu') # input: 16x16x96, output: 16x16x96\n",
        "    self.global_pool = tf.keras.layers.GlobalAvgPool2D() # vectorizing the image:  # input: 8x8x96, output: 1x1x96\n",
        "\n",
        "    self.out = tf.keras.layers.Dense(10, activation='softmax')\n",
        "\n",
        "\n",
        "  def call(self, x):\n",
        "\n",
        "    # forward propagation block 1\n",
        "    x = self.convl1(x)\n",
        "    x = self.convl2(x)\n",
        "    x = self.convl3(x)\n",
        "    x = self.pool1(x)\n",
        "\n",
        "    # forward propagation block2\n",
        "    x = self.convl4(x)\n",
        "    x = self.convl5(x)\n",
        "    x = self.convl6(x)\n",
        "\n",
        "    x = self.global_pool(x)\n",
        "\n",
        "    # output layer propagation\n",
        "    x = self.out(x)\n",
        "\n",
        "    return x"
      ],
      "metadata": {
        "id": "gur8b2iF0PRZ"
      },
      "execution_count": 15,
      "outputs": []
    },
    {
      "cell_type": "markdown",
      "metadata": {
        "id": "GxtM2MOLP3r4"
      },
      "source": [
        "## 1.3 Training the network"
      ]
    },
    {
      "cell_type": "code",
      "execution_count": 13,
      "metadata": {
        "id": "kvvQ1ZR2PruM"
      },
      "outputs": [],
      "source": [
        "# helper functions for training and testing the network\n",
        "\n",
        "# train and test step: just propagating one data sample through the net\n",
        "\n",
        "# train step\n",
        "# one forward and backwards step of the input respective target in the neural network\n",
        "def train_step(model, input, target, loss_func, optimizer):\n",
        "  with tf.GradientTape() as tape:\n",
        "    pred = model(input) # if it does not work -> model(x)\n",
        "    loss = loss_func(target, pred)\n",
        "    acc = np.argmax(target, axis=1) == np.argmax(pred, axis=1)\n",
        "    acc = np.mean(acc)\n",
        "\n",
        "  gradients = tape.gradient(loss, model.trainable_variables)\n",
        "  optimizer.apply_gradients(zip(gradients, model.trainable_variables))\n",
        "\n",
        "  return loss, acc\n",
        "\n",
        "# test step\n",
        "def test_step(model, input, target, loss_func):\n",
        "  pred = model(input)\n",
        "  loss = loss_func(target, pred)\n",
        "  acc = np.argmax(target, axis=1) == np.argmax(pred, axis=1)\n",
        "  acc = np.mean(acc)\n",
        "\n",
        "  return loss, acc\n",
        "\n",
        "\n",
        "# train and test loop:\n",
        "\n",
        "# train loop\n",
        "def train_loop(model, train_ds, loss_func, optimizer):\n",
        "\n",
        "  losses_per_epoch_train = []\n",
        "  accs_per_epoch_train = []\n",
        "\n",
        "  for input, target in train_ds:\n",
        "      loss, acc = train_step(model=model, input=input, target=target, loss_func=loss_func, optimizer=optimizer)\n",
        "      losses_per_epoch_train.append(loss)\n",
        "      accs_per_epoch_train.append(acc)\n",
        "\n",
        "  return losses_per_epoch_train, accs_per_epoch_train\n",
        "\n",
        "# test loop\n",
        "def test_loop(model, test_ds, loss_func):\n",
        "\n",
        "  losses_per_epoch_test = []\n",
        "  accs_per_epoch_test = []\n",
        "\n",
        "  for input, target in test_ds:\n",
        "      loss, acc = test_step(model=model, input=input, target=target, loss_func=loss_func)\n",
        "      losses_per_epoch_test.append(loss)\n",
        "      accs_per_epoch_test.append(acc)\n",
        "\n",
        "  return losses_per_epoch_test, accs_per_epoch_test\n",
        "\n",
        "# actual function\n",
        "\n",
        "# train test loop\n",
        "# actual function that trains and tests the network num_epoch times\n",
        "# training the whole network num_epoch times\n",
        "def train_test_loop(model, train_ds, test_ds, loss_func, optimizer, num_epochs=10):\n",
        "\n",
        "  train_losses = []\n",
        "  train_accs = []\n",
        "  test_losses = []\n",
        "  test_accs = []\n",
        "\n",
        "  # for each epoch: train the network with all training data\n",
        "  for epoch in range(num_epochs):\n",
        "\n",
        "    # training\n",
        "    # for each data sample in the training dataset: train_step for loss and acc\n",
        "    losses_per_epoch_train, accs_per_epoch_train = train_loop(model=model, train_ds=train_ds, loss_func=loss_func, optimizer=optimizer)\n",
        "    # track loss and acc of training data for each epoch by taking mean of loss and acc of all data samples\n",
        "    train_losses.append(tf.reduce_mean(losses_per_epoch_train))\n",
        "    train_accs.append(tf.reduce_mean(accs_per_epoch_train))\n",
        "\n",
        "\n",
        "    # testing\n",
        "    # for each data sample in the testing dataset: test_step for loss and acc\n",
        "    # evaluating the performance of the network in after the current epoch\n",
        "    losses_per_epoch_test, accs_per_epoch_test = test_loop(model=model, test_ds=test_ds, loss_func=loss_func)\n",
        "    # track loss and acc of test data for each epoch\n",
        "    test_losses.append(tf.reduce_mean(losses_per_epoch_test))\n",
        "    test_accs.append(tf.reduce_mean(accs_per_epoch_test))\n",
        "\n",
        "    print(f' After epoch {str(epoch)} the test accuracy is: {test_accs[-1]}')\n",
        "    #print(f' After epoch {str(epoch)} the test loss is: {test_losses[-1]}')\n",
        "\n",
        "  # after the network is trained (and tested) num_epoch times\n",
        "  # train and test losses and accs for each epoch are returned\n",
        "  return train_losses, train_accs, test_losses, test_accs\n",
        "\n"
      ]
    },
    {
      "cell_type": "markdown",
      "source": [
        "Create Model"
      ],
      "metadata": {
        "id": "wgnsGXOby4hY"
      }
    },
    {
      "cell_type": "code",
      "source": [
        "def create_and_run_cifar_model(batch_size, shuffle_buffer_size, loss_func, optimizer, model_nb=1, num_epochs=10):\n",
        "\n",
        "  # loading the data\n",
        "  train_ds, test_ds = load_and_prep_data(batch_size=BATCH_SIZE, shuffle_buffer_size=SHUFFLE_BUFFER_SIZE)\n",
        "  # instantiating the model\n",
        "  if model_nb==1:\n",
        "    model = cifar10Model1()\n",
        "  elif model_nb==2:\n",
        "    model = cifar10Model2()\n",
        "  elif model_nb==3:\n",
        "    model = cifar10Model3()\n",
        "\n",
        "  # train and testing the model\n",
        "  train_losses, train_accs, test_losses, test_accs = train_test_loop(model=model, train_ds=train_ds, test_ds=test_ds, loss_func=LOSS_FUNC, optimizer=OPTIMIZER, num_epochs=NUM_EPOCHS)\n",
        "\n",
        "  return train_losses, train_accs, test_losses, test_accs"
      ],
      "metadata": {
        "id": "QOv2D4KMy34s"
      },
      "execution_count": 10,
      "outputs": []
    },
    {
      "cell_type": "markdown",
      "metadata": {
        "id": "ALDZRn_hlq4X"
      },
      "source": [
        "## 1.4 Visualization\n",
        "\n",
        "visualizing for train and testing of the model the losses and accuracies after every epoch"
      ]
    },
    {
      "cell_type": "code",
      "source": [
        "def visualization(train_losses, train_accs, test_losses, test_accs):\n",
        "\n",
        "  # create 4 subplots\n",
        "  fig, ((ax1, ax2), (ax3, ax4)) = plt.subplots(2, 2)\n",
        "\n",
        "  # train losses\n",
        "  ax1.plot(train_losses, color='red', label='Train')\n",
        "  ax1.set_title('Train Losses')\n",
        "\n",
        "  # train accuracy\n",
        "  ax2.plot(train_accs, color=\"red\", label=\"Train\")\n",
        "  ax2.set_title(\"Train Accuracy\")\n",
        "\n",
        "  # test losses\n",
        "  ax3.plot(test_losses, color=\"blue\", label=\"Test\")\n",
        "  ax3.set_title('Test Losses')\n",
        "\n",
        "  # test accuracy\n",
        "  ax4.plot(test_accs, color=\"blue\", label=\"Test\")\n",
        "  ax4.set_title(\"Test Accuracy\")\n",
        "\n",
        "  # draw gridlines\n",
        "  ax1.grid(True)\n",
        "  ax2.grid(True)\n",
        "  ax3.grid(True)\n",
        "  ax4.grid(True)\n",
        "\n",
        "  # formatting of the plots\n",
        "  fig_title = 'Evaluation: Training vs. Testing'\n",
        "  fig.suptitle(fig_title)\n",
        "  ax1.set_xlabel(\"Epochs\")\n",
        "  ax2.set_xlabel(\"Epochs\")\n",
        "  ax3.set_xlabel(\"Epochs\")\n",
        "  ax4.set_xlabel(\"Epochs\")\n",
        "  fig.legend(loc='outside right upper')\n",
        "  fig.tight_layout()\n",
        "  plt.show()"
      ],
      "metadata": {
        "id": "Q-T0vGqbpfnF"
      },
      "execution_count": 25,
      "outputs": []
    },
    {
      "cell_type": "markdown",
      "source": [
        "# Adjusting hyperparameters and architecture"
      ],
      "metadata": {
        "id": "qN1hYCpNwDDs"
      }
    },
    {
      "cell_type": "markdown",
      "source": [
        "Exploring the influence hyperparameter and training choices\n",
        "can make:\n",
        "- Two different Learning Rates\n",
        "- Two different Architectures (e.g. number and size of layers)\n",
        "- Two different optimizers (Including Adam and one other)\n",
        "- in total 8 settings with respective visualizations"
      ],
      "metadata": {
        "id": "ZGAi14zuwcZY"
      }
    },
    {
      "cell_type": "markdown",
      "source": [
        "## three different architectures\n",
        "- model 1: 2 blocks with 3 Conv2D layers each and 24 filters each\n",
        "- model 2: 3 blocks with 3 Conv2D layers each and 24 filters each\n",
        "- model 3: 2 blocks with 3 Conv2D layers each and 48 filters each\n",
        "\n",
        "-> model 1 and 2 have different number of blocks/layers  \n",
        "-> model 1 and 3 have different number of filters per layer"
      ],
      "metadata": {
        "id": "bykmZSE02ccN"
      }
    },
    {
      "cell_type": "markdown",
      "source": [
        "**Setting 1:** model 1  \n",
        "2 blocks with 3 Conv2D layers each and 24 filters each"
      ],
      "metadata": {
        "id": "VTrVQVUs1293"
      }
    },
    {
      "cell_type": "code",
      "source": [
        "# defining hyperparameters for the model\n",
        "BATCH_SIZE = 32\n",
        "SHUFFLE_BUFFER_SIZE = 1000\n",
        "\n",
        "LOSS_FUNC = tf.keras.losses.CategoricalCrossentropy()\n",
        "\n",
        "LR = 0.001\n",
        "OPTIMIZER = tf.keras.optimizers.Adam(learning_rate=LR)\n",
        "\n",
        "MODEL_NB = 1\n",
        "NUM_EPOCHS = 12\n",
        "\n",
        "# creating, training and testing the model\n",
        "train_losses, train_accs, test_losses, test_accs = create_and_run_cifar_model(batch_size=BATCH_SIZE, shuffle_buffer_size=SHUFFLE_BUFFER_SIZE, loss_func=LOSS_FUNC, optimizer=OPTIMIZER, model_nb=MODEL_NB, num_epochs=NUM_EPOCHS)\n",
        "visualization(train_losses, train_accs, test_losses, test_accs)"
      ],
      "metadata": {
        "id": "8tYs_XUT2Ib0",
        "colab": {
          "base_uri": "https://localhost:8080/",
          "height": 703
        },
        "outputId": "53f8c1f2-9f77-443e-8998-cf2e102a6046"
      },
      "execution_count": 27,
      "outputs": [
        {
          "output_type": "stream",
          "name": "stdout",
          "text": [
            " After epoch 0 the test accuracy is: 0.48552316293929715\n",
            " After epoch 1 the test accuracy is: 0.5540135782747604\n",
            " After epoch 2 the test accuracy is: 0.6032348242811502\n",
            " After epoch 3 the test accuracy is: 0.6299920127795527\n",
            " After epoch 4 the test accuracy is: 0.6459664536741214\n",
            " After epoch 5 the test accuracy is: 0.6460662939297125\n",
            " After epoch 6 the test accuracy is: 0.6546525559105432\n",
            " After epoch 7 the test accuracy is: 0.6761182108626198\n",
            " After epoch 8 the test accuracy is: 0.6785143769968051\n",
            " After epoch 9 the test accuracy is: 0.6688298722044729\n",
            " After epoch 10 the test accuracy is: 0.6972843450479234\n",
            " After epoch 11 the test accuracy is: 0.702076677316294\n"
          ]
        },
        {
          "output_type": "display_data",
          "data": {
            "text/plain": [
              "<Figure size 640x480 with 4 Axes>"
            ],
            "image/png": "[encoded data removed]"
          },
          "metadata": {}
        }
      ]
    },
    {
      "cell_type": "markdown",
      "source": [
        "**Setting 2:** model 2  \n",
        "3 blocks with 3 Conv2D layers each and 24 filters each"
      ],
      "metadata": {
        "id": "6sLpVMAG121y"
      }
    },
    {
      "cell_type": "code",
      "source": [
        "# defining hyperparameters for the model\n",
        "BATCH_SIZE = 32\n",
        "SHUFFLE_BUFFER_SIZE = 1000\n",
        "\n",
        "LOSS_FUNC = tf.keras.losses.CategoricalCrossentropy()\n",
        "\n",
        "LR = 0.001\n",
        "OPTIMIZER = tf.keras.optimizers.Adam(learning_rate=LR)\n",
        "\n",
        "MODEL_NB = 2\n",
        "NUM_EPOCHS = 12\n",
        "\n",
        "# creating, training and testing the model\n",
        "train_losses, train_accs, test_losses, test_accs = create_and_run_cifar_model(batch_size=BATCH_SIZE, shuffle_buffer_size=SHUFFLE_BUFFER_SIZE, loss_func=LOSS_FUNC, optimizer=OPTIMIZER, model_nb=MODEL_NB, num_epochs=NUM_EPOCHS)\n",
        "visualization(train_losses, train_accs, test_losses, test_accs)"
      ],
      "metadata": {
        "id": "CUQbIZs42I3Z",
        "colab": {
          "base_uri": "https://localhost:8080/",
          "height": 703
        },
        "outputId": "8b71995e-5dea-4daa-f503-5436d3a84f3a"
      },
      "execution_count": 30,
      "outputs": [
        {
          "output_type": "stream",
          "name": "stdout",
          "text": [
            " After epoch 0 the test accuracy is: 0.4682507987220447\n",
            " After epoch 1 the test accuracy is: 0.5897563897763578\n",
            " After epoch 2 the test accuracy is: 0.6421725239616614\n",
            " After epoch 3 the test accuracy is: 0.6669329073482428\n",
            " After epoch 4 the test accuracy is: 0.6824081469648562\n",
            " After epoch 5 the test accuracy is: 0.7075678913738019\n",
            " After epoch 6 the test accuracy is: 0.7143570287539937\n",
            " After epoch 7 the test accuracy is: 0.7212460063897763\n",
            " After epoch 8 the test accuracy is: 0.7212460063897763\n",
            " After epoch 9 the test accuracy is: 0.7269369009584664\n",
            " After epoch 10 the test accuracy is: 0.7307308306709265\n",
            " After epoch 11 the test accuracy is: 0.7383186900958466\n"
          ]
        },
        {
          "output_type": "display_data",
          "data": {
            "text/plain": [
              "<Figure size 640x480 with 4 Axes>"
            ],
            "image/png": "[encoded data removed]"
          },
          "metadata": {}
        }
      ]
    },
    {
      "cell_type": "markdown",
      "source": [
        "**Setting 3:** model 3  \n",
        "2 blocks with 3 Conv2D layers each and 48 filters each"
      ],
      "metadata": {
        "id": "HcCNNmf_12qp"
      }
    },
    {
      "cell_type": "code",
      "source": [
        "# defining hyperparameters for the model\n",
        "BATCH_SIZE = 32\n",
        "SHUFFLE_BUFFER_SIZE = 1000\n",
        "\n",
        "LOSS_FUNC = tf.keras.losses.CategoricalCrossentropy()\n",
        "\n",
        "LR = 0.001\n",
        "OPTIMIZER = tf.keras.optimizers.Adam(learning_rate=LR)\n",
        "\n",
        "MODEL_NB = 3\n",
        "NUM_EPOCHS = 12\n",
        "\n",
        "# creating, training and testing the model\n",
        "train_losses, train_accs, test_losses, test_accs = create_and_run_cifar_model(batch_size=BATCH_SIZE, shuffle_buffer_size=SHUFFLE_BUFFER_SIZE, loss_func=LOSS_FUNC, optimizer=OPTIMIZER, model_nb=MODEL_NB, num_epochs=NUM_EPOCHS)\n",
        "visualization(train_losses, train_accs, test_losses, test_accs)"
      ],
      "metadata": {
        "id": "k4QY2GIH2JlS",
        "colab": {
          "base_uri": "https://localhost:8080/",
          "height": 703
        },
        "outputId": "e661d3e9-67bf-437c-aca6-08c291aa7f2d"
      },
      "execution_count": 31,
      "outputs": [
        {
          "output_type": "stream",
          "name": "stdout",
          "text": [
            " After epoch 0 the test accuracy is: 0.5388378594249201\n",
            " After epoch 1 the test accuracy is: 0.6393769968051118\n",
            " After epoch 2 the test accuracy is: 0.6701277955271565\n",
            " After epoch 3 the test accuracy is: 0.6806110223642172\n",
            " After epoch 4 the test accuracy is: 0.7188498402555911\n",
            " After epoch 5 the test accuracy is: 0.7365215654952076\n",
            " After epoch 6 the test accuracy is: 0.7305311501597445\n",
            " After epoch 7 the test accuracy is: 0.7633785942492013\n",
            " After epoch 8 the test accuracy is: 0.762979233226837\n",
            " After epoch 9 the test accuracy is: 0.7623801916932907\n",
            " After epoch 10 the test accuracy is: 0.7827476038338658\n",
            " After epoch 11 the test accuracy is: 0.7741613418530351\n"
          ]
        },
        {
          "output_type": "display_data",
          "data": {
            "text/plain": [
              "<Figure size 640x480 with 4 Axes>"
            ],
            "image/png": "[encoded data removed]"
          },
          "metadata": {}
        }
      ]
    },
    {
      "cell_type": "markdown",
      "source": [
        "## two different learning rates"
      ],
      "metadata": {
        "id": "aJ-1SiJ6KyNq"
      }
    },
    {
      "cell_type": "markdown",
      "source": [
        "**Setting 4:** learning rate = 0.001"
      ],
      "metadata": {
        "id": "BC-kF7lTw4m9"
      }
    },
    {
      "cell_type": "code",
      "source": [
        "# defining hyperparameters for the model\n",
        "BATCH_SIZE = 32\n",
        "SHUFFLE_BUFFER_SIZE = 1000\n",
        "\n",
        "LOSS_FUNC = tf.keras.losses.CategoricalCrossentropy()\n",
        "\n",
        "LR = 0.001\n",
        "OPTIMIZER = tf.keras.optimizers.Adam(learning_rate=LR)\n",
        "\n",
        "MODEL_NB = 1\n",
        "NUM_EPOCHS = 12\n",
        "\n",
        "# creating, training and testing the model\n",
        "train_losses, train_accs, test_losses, test_accs = create_and_run_cifar_model(batch_size=BATCH_SIZE, shuffle_buffer_size=SHUFFLE_BUFFER_SIZE, loss_func=LOSS_FUNC, optimizer=OPTIMIZER, model_nb=MODEL_NB, num_epochs=NUM_EPOCHS)\n",
        "visualization(train_losses, train_accs, test_losses, test_accs)"
      ],
      "metadata": {
        "id": "u9rc7x_0wbrw",
        "colab": {
          "base_uri": "https://localhost:8080/",
          "height": 703
        },
        "outputId": "bf12709b-6224-4269-81eb-d2254cb73c76"
      },
      "execution_count": 32,
      "outputs": [
        {
          "output_type": "stream",
          "name": "stdout",
          "text": [
            " After epoch 0 the test accuracy is: 0.46565495207667734\n",
            " After epoch 1 the test accuracy is: 0.5429313099041534\n",
            " After epoch 2 the test accuracy is: 0.5693889776357828\n",
            " After epoch 3 the test accuracy is: 0.6047324281150159\n",
            " After epoch 4 the test accuracy is: 0.6206070287539937\n",
            " After epoch 5 the test accuracy is: 0.6549520766773163\n",
            " After epoch 6 the test accuracy is: 0.6476637380191693\n",
            " After epoch 7 the test accuracy is: 0.6535543130990416\n",
            " After epoch 8 the test accuracy is: 0.6836062300319489\n",
            " After epoch 9 the test accuracy is: 0.6998801916932907\n",
            " After epoch 10 the test accuracy is: 0.6945886581469649\n",
            " After epoch 11 the test accuracy is: 0.6961861022364217\n"
          ]
        },
        {
          "output_type": "display_data",
          "data": {
            "text/plain": [
              "<Figure size 640x480 with 4 Axes>"
            ],
            "image/png": "[encoded data removed]"
          },
          "metadata": {}
        }
      ]
    },
    {
      "cell_type": "markdown",
      "source": [
        "**Setting 5:** learning rate = 0.001"
      ],
      "metadata": {
        "id": "NDCApSLK1ypi"
      }
    },
    {
      "cell_type": "code",
      "source": [
        "# defining hyperparameters for the model\n",
        "BATCH_SIZE = 32\n",
        "SHUFFLE_BUFFER_SIZE = 1000\n",
        "\n",
        "LOSS_FUNC = tf.keras.losses.CategoricalCrossentropy()\n",
        "\n",
        "LR = 0.0001\n",
        "OPTIMIZER = tf.keras.optimizers.Adam(learning_rate=LR)\n",
        "\n",
        "MODEL_NB = 1\n",
        "NUM_EPOCHS = 12\n",
        "\n",
        "# creating, training and testing the model\n",
        "train_losses, train_accs, test_losses, test_accs = create_and_run_cifar_model(batch_size=BATCH_SIZE, shuffle_buffer_size=SHUFFLE_BUFFER_SIZE, loss_func=LOSS_FUNC, optimizer=OPTIMIZER, model_nb=MODEL_NB, num_epochs=NUM_EPOCHS)\n",
        "visualization(train_losses, train_accs, test_losses, test_accs)"
      ],
      "metadata": {
        "id": "pBErtu1N1yPP",
        "colab": {
          "base_uri": "https://localhost:8080/",
          "height": 703
        },
        "outputId": "87ebd85e-41b5-4b6f-a208-e1b625f18379"
      },
      "execution_count": 33,
      "outputs": [
        {
          "output_type": "stream",
          "name": "stdout",
          "text": [
            " After epoch 0 the test accuracy is: 0.32328274760383385\n",
            " After epoch 1 the test accuracy is: 0.3789936102236422\n",
            " After epoch 2 the test accuracy is: 0.41373801916932906\n",
            " After epoch 3 the test accuracy is: 0.4047523961661342\n",
            " After epoch 4 the test accuracy is: 0.4252196485623003\n",
            " After epoch 5 the test accuracy is: 0.4353035143769968\n",
            " After epoch 6 the test accuracy is: 0.44738418530351437\n",
            " After epoch 7 the test accuracy is: 0.4623602236421725\n",
            " After epoch 8 the test accuracy is: 0.47184504792332266\n",
            " After epoch 9 the test accuracy is: 0.48642172523961663\n",
            " After epoch 10 the test accuracy is: 0.4866214057507987\n",
            " After epoch 11 the test accuracy is: 0.4911142172523962\n"
          ]
        },
        {
          "output_type": "display_data",
          "data": {
            "text/plain": [
              "<Figure size 640x480 with 4 Axes>"
            ],
            "image/png": "[encoded data removed]"
          },
          "metadata": {}
        }
      ]
    },
    {
      "cell_type": "markdown",
      "source": [
        "## two different optimizers\n",
        "\n",
        "- Adam optimizer\n",
        "- SGD optimizer"
      ],
      "metadata": {
        "id": "YkTcU-In2j2i"
      }
    },
    {
      "cell_type": "markdown",
      "source": [
        "Adam optimizer -> setting 1"
      ],
      "metadata": {
        "id": "eyfeEtfe12hH"
      }
    },
    {
      "cell_type": "markdown",
      "source": [
        "**Setting 6:** SGD optimizer"
      ],
      "metadata": {
        "id": "9aU40TEQ11iC"
      }
    },
    {
      "cell_type": "code",
      "source": [
        "# defining hyperparameters for the model\n",
        "BATCH_SIZE = 32\n",
        "SHUFFLE_BUFFER_SIZE = 1000\n",
        "\n",
        "LOSS_FUNC = tf.keras.losses.CategoricalCrossentropy()\n",
        "\n",
        "LR = 0.001\n",
        "OPTIMIZER = tf.keras.optimizers.SGD(learning_rate=LR)\n",
        "\n",
        "MODEL_NB = 1\n",
        "NUM_EPOCHS = 12\n",
        "\n",
        "# creating, training and testing the model\n",
        "train_losses, train_accs, test_losses, test_accs = create_and_run_cifar_model(batch_size=BATCH_SIZE, shuffle_buffer_size=SHUFFLE_BUFFER_SIZE, loss_func=LOSS_FUNC, optimizer=OPTIMIZER, model_nb=MODEL_NB, num_epochs=NUM_EPOCHS)\n",
        "visualization(train_losses, train_accs, test_losses, test_accs)"
      ],
      "metadata": {
        "id": "dKt1FM_uu6bF",
        "outputId": "a6c96ba9-90b8-4974-c0f9-960a93ba858d",
        "colab": {
          "base_uri": "https://localhost:8080/",
          "height": 245
        }
      },
      "execution_count": 1,
      "outputs": [
        {
          "output_type": "error",
          "ename": "NameError",
          "evalue": "ignored",
          "traceback": [
            "\u001b[0;31m---------------------------------------------------------------------------\u001b[0m",
            "\u001b[0;31mNameError\u001b[0m                                 Traceback (most recent call last)",
            "\u001b[0;32m<ipython-input-1-2293ccaf2564>\u001b[0m in \u001b[0;36m<cell line: 5>\u001b[0;34m()\u001b[0m\n\u001b[1;32m      3\u001b[0m \u001b[0mSHUFFLE_BUFFER_SIZE\u001b[0m \u001b[0;34m=\u001b[0m \u001b[0;36m1000\u001b[0m\u001b[0;34m\u001b[0m\u001b[0;34m\u001b[0m\u001b[0m\n\u001b[1;32m      4\u001b[0m \u001b[0;34m\u001b[0m\u001b[0m\n\u001b[0;32m----> 5\u001b[0;31m \u001b[0mLOSS_FUNC\u001b[0m \u001b[0;34m=\u001b[0m \u001b[0mtf\u001b[0m\u001b[0;34m.\u001b[0m\u001b[0mkeras\u001b[0m\u001b[0;34m.\u001b[0m\u001b[0mlosses\u001b[0m\u001b[0;34m.\u001b[0m\u001b[0mCategoricalCrossentropy\u001b[0m\u001b[0;34m(\u001b[0m\u001b[0;34m)\u001b[0m\u001b[0;34m\u001b[0m\u001b[0;34m\u001b[0m\u001b[0m\n\u001b[0m\u001b[1;32m      6\u001b[0m \u001b[0;34m\u001b[0m\u001b[0m\n\u001b[1;32m      7\u001b[0m \u001b[0mLR\u001b[0m \u001b[0;34m=\u001b[0m \u001b[0;36m0.001\u001b[0m\u001b[0;34m\u001b[0m\u001b[0;34m\u001b[0m\u001b[0m\n",
            "\u001b[0;31mNameError\u001b[0m: name 'tf' is not defined"
          ]
        }
      ]
    },
    {
      "cell_type": "code",
      "source": [
        "# defining hyperparameters for the model\n",
        "BATCH_SIZE = 64\n",
        "SHUFFLE_BUFFER_SIZE = 1000\n",
        "\n",
        "LOSS_FUNC = tf.keras.losses.CategoricalCrossentropy()\n",
        "\n",
        "LR = 0.001\n",
        "OPTIMIZER = tf.keras.optimizers.SGD(learning_rate=LR)\n",
        "\n",
        "MODEL_NB = 1\n",
        "NUM_EPOCHS = 12\n",
        "\n",
        "# creating, training and testing the model\n",
        "train_losses, train_accs, test_losses, test_accs = create_and_run_cifar_model(batch_size=BATCH_SIZE, shuffle_buffer_size=SHUFFLE_BUFFER_SIZE, loss_func=LOSS_FUNC, optimizer=OPTIMIZER, model_nb=MODEL_NB, num_epochs=NUM_EPOCHS)\n",
        "visualization(train_losses, train_accs, test_losses, test_accs)"
      ],
      "metadata": {
        "id": "IHJDhM8L2LVh",
        "colab": {
          "base_uri": "https://localhost:8080/"
        },
        "outputId": "1b9f22f8-135b-4a64-dbfa-effdd34c8cff"
      },
      "execution_count": null,
      "outputs": [
        {
          "output_type": "stream",
          "name": "stdout",
          "text": [
            " After epoch 0 the test accuracy is: 0.10917595541401273\n",
            " After epoch 1 the test accuracy is: 0.11484872611464968\n",
            " After epoch 2 the test accuracy is: 0.11265923566878981\n",
            " After epoch 3 the test accuracy is: 0.11335589171974522\n",
            " After epoch 4 the test accuracy is: 0.11395302547770701\n",
            " After epoch 5 the test accuracy is: 0.10429936305732485\n",
            " After epoch 6 the test accuracy is: 0.11683917197452229\n",
            " After epoch 7 the test accuracy is: 0.1188296178343949\n",
            " After epoch 8 the test accuracy is: 0.12211385350318471\n",
            " After epoch 9 the test accuracy is: 0.1338574840764331\n"
          ]
        }
      ]
    },
    {
      "cell_type": "markdown",
      "source": [
        "### two different batch sizes"
      ],
      "metadata": {
        "id": "flUytQBCJ69q"
      }
    },
    {
      "cell_type": "markdown",
      "source": [
        "batch_size = 32 -> setting 1"
      ],
      "metadata": {
        "id": "SHHYaKlYKMkG"
      }
    },
    {
      "cell_type": "markdown",
      "source": [
        "**Setting 7:** batch size = 64"
      ],
      "metadata": {
        "id": "w4BQW5qrKMcz"
      }
    },
    {
      "cell_type": "code",
      "source": [
        "# defining hyperparameters for the model\n",
        "BATCH_SIZE = 64\n",
        "SHUFFLE_BUFFER_SIZE = 1000\n",
        "\n",
        "LOSS_FUNC = tf.keras.losses.CategoricalCrossentropy()\n",
        "\n",
        "LR = 0.001\n",
        "OPTIMIZER = tf.keras.optimizers.Adam(learning_rate=LR)\n",
        "\n",
        "MODEL_NB = 1\n",
        "NUM_EPOCHS = 12\n",
        "\n",
        "# creating, training and testing the model\n",
        "train_losses, train_accs, test_losses, test_accs = create_and_run_cifar_model(batch_size=BATCH_SIZE, shuffle_buffer_size=SHUFFLE_BUFFER_SIZE, loss_func=LOSS_FUNC, optimizer=OPTIMIZER, model_nb=MODEL_NB, num_epochs=NUM_EPOCHS)\n",
        "visualization(train_losses, train_accs, test_losses, test_accs)"
      ],
      "metadata": {
        "id": "u9Gx67YXvGkO"
      },
      "execution_count": null,
      "outputs": []
    },
    {
      "cell_type": "code",
      "source": [
        "# defining hyperparameters for the model\n",
        "BATCH_SIZE = 64\n",
        "SHUFFLE_BUFFER_SIZE = 1000\n",
        "\n",
        "LOSS_FUNC = tf.keras.losses.CategoricalCrossentropy()\n",
        "\n",
        "LR = 0.001\n",
        "OPTIMIZER = tf.keras.optimizers.Adam(learning_rate=LR)\n",
        "\n",
        "MODEL_NB = 1\n",
        "NUM_EPOCHS = 12\n",
        "\n",
        "# creating, training and testing the model\n",
        "train_losses, train_accs, test_losses, test_accs = create_and_run_cifar_model(batch_size=BATCH_SIZE, shuffle_buffer_size=SHUFFLE_BUFFER_SIZE, loss_func=LOSS_FUNC, optimizer=OPTIMIZER, model_nb=MODEL_NB, num_epochs=NUM_EPOCHS)\n",
        "visualization(train_losses, train_accs, test_losses, test_accs)"
      ],
      "metadata": {
        "id": "88DF4oKmKLQ0"
      },
      "execution_count": null,
      "outputs": []
    },
    {
      "cell_type": "markdown",
      "source": [
        "## combination of hyperparameters\n",
        "combining hyperparameters that seemed to work best"
      ],
      "metadata": {
        "id": "5jfqBryc3zOR"
      }
    },
    {
      "cell_type": "markdown",
      "source": [
        "**Setting 8:**\n",
        "- learning rate:\n",
        "- model architecture:\n",
        "- optimizer:\n",
        "- batch size:"
      ],
      "metadata": {
        "id": "tidG29j411Be"
      }
    },
    {
      "cell_type": "code",
      "source": [
        "# defining hyperparameters for the model\n",
        "BATCH_SIZE = 64\n",
        "SHUFFLE_BUFFER_SIZE = 1000\n",
        "\n",
        "LOSS_FUNC = tf.keras.losses.CategoricalCrossentropy()\n",
        "\n",
        "LR = 0.001\n",
        "OPTIMIZER = tf.keras.optimizers.Adam(learning_rate=LR)\n",
        "\n",
        "MODEL_NB = 3\n",
        "NUM_EPOCHS = 12\n",
        "\n",
        "# creating, training and testing the model\n",
        "train_losses, train_accs, test_losses, test_accs = create_and_run_cifar_model(batch_size=BATCH_SIZE, shuffle_buffer_size=SHUFFLE_BUFFER_SIZE, loss_func=LOSS_FUNC, optimizer=OPTIMIZER, model_nb=MODEL_NB, num_epochs=NUM_EPOCHS)\n",
        "visualization(train_losses, train_accs, test_losses, test_accs)"
      ],
      "metadata": {
        "id": "WGilsZ2j2L4M",
        "colab": {
          "base_uri": "https://localhost:8080/",
          "height": 703
        },
        "outputId": "82152053-aa72-4432-eddb-8d67e21c72d3"
      },
      "execution_count": 36,
      "outputs": [
        {
          "metadata": {
            "tags": null
          },
          "name": "stdout",
          "output_type": "stream",
          "text": [
            " After epoch 0 the test accuracy is: 0.45431926751592355\n",
            " After epoch 1 the test accuracy is: 0.5838972929936306\n",
            " After epoch 2 the test accuracy is: 0.6412221337579618\n",
            " After epoch 3 the test accuracy is: 0.6656050955414012\n",
            " After epoch 4 the test accuracy is: 0.6921775477707006\n",
            " After epoch 5 the test accuracy is: 0.6827229299363057\n",
            " After epoch 6 the test accuracy is: 0.7268113057324841\n",
            " After epoch 7 the test accuracy is: 0.7380573248407644\n",
            " After epoch 8 the test accuracy is: 0.7358678343949044\n",
            " After epoch 9 the test accuracy is: 0.7379578025477707\n",
            " After epoch 10 the test accuracy is: 0.7498009554140127\n",
            " After epoch 11 the test accuracy is: 0.7543789808917197\n"
          ]
        },
        {
          "data": {
            "image/png": "[encoded data removed]",
            "text/plain": [
              "<Figure size 640x480 with 4 Axes>"
            ]
          },
          "metadata": {},
          "output_type": "display_data"
        }
      ]
    }
  ],
  "metadata": {
    "colab": {
      "provenance": [],
      "gpuType": "T4"
    },
    "kernelspec": {
      "display_name": "Python 3",
      "name": "python3"
    },
    "language_info": {
      "name": "python"
    },
    "accelerator": "GPU",
    "widgets": {
      "application/vnd.jupyter.widget-state+json": {
        "f96ffc56e2b04a418872de346d8d1815": {
          "model_module": "@jupyter-widgets/controls",
          "model_name": "HBoxModel",
          "model_module_version": "1.5.0",
          "state": {
            "_dom_classes": [],
            "_model_module": "@jupyter-widgets/controls",
            "_model_module_version": "1.5.0",
            "_model_name": "HBoxModel",
            "_view_count": null,
            "_view_module": "@jupyter-widgets/controls",
            "_view_module_version": "1.5.0",
            "_view_name": "HBoxView",
            "box_style": "",
            "children": [
              "IPY_MODEL_960e91f7cfbf42869f4c6591edc8866a",
              "IPY_MODEL_c73e7091b27848f29dcaca9ccbf375be",
              "IPY_MODEL_c54bbed51b844d21b933145839c0e42d"
            ],
            "layout": "IPY_MODEL_68affb9bfdd84526851b36c4ea61cb38"
          }
        },
        "960e91f7cfbf42869f4c6591edc8866a": {
          "model_module": "@jupyter-widgets/controls",
          "model_name": "HTMLModel",
          "model_module_version": "1.5.0",
          "state": {
            "_dom_classes": [],
            "_model_module": "@jupyter-widgets/controls",
            "_model_module_version": "1.5.0",
            "_model_name": "HTMLModel",
            "_view_count": null,
            "_view_module": "@jupyter-widgets/controls",
            "_view_module_version": "1.5.0",
            "_view_name": "HTMLView",
            "description": "",
            "description_tooltip": null,
            "layout": "IPY_MODEL_e87f4617271e4b7896476101dbf3e387",
            "placeholder": "​",
            "style": "IPY_MODEL_8efacc82c15347a8a4f9bbba2f88d4ef",
            "value": "Dl Completed...: 100%"
          }
        },
        "c73e7091b27848f29dcaca9ccbf375be": {
          "model_module": "@jupyter-widgets/controls",
          "model_name": "FloatProgressModel",
          "model_module_version": "1.5.0",
          "state": {
            "_dom_classes": [],
            "_model_module": "@jupyter-widgets/controls",
            "_model_module_version": "1.5.0",
            "_model_name": "FloatProgressModel",
            "_view_count": null,
            "_view_module": "@jupyter-widgets/controls",
            "_view_module_version": "1.5.0",
            "_view_name": "ProgressView",
            "bar_style": "success",
            "description": "",
            "description_tooltip": null,
            "layout": "IPY_MODEL_817621cdd81148e7bac1d6a357bf144d",
            "max": 1,
            "min": 0,
            "orientation": "horizontal",
            "style": "IPY_MODEL_adedb5e2d2094a71a7ca0add5090c199",
            "value": 1
          }
        },
        "c54bbed51b844d21b933145839c0e42d": {
          "model_module": "@jupyter-widgets/controls",
          "model_name": "HTMLModel",
          "model_module_version": "1.5.0",
          "state": {
            "_dom_classes": [],
            "_model_module": "@jupyter-widgets/controls",
            "_model_module_version": "1.5.0",
            "_model_name": "HTMLModel",
            "_view_count": null,
            "_view_module": "@jupyter-widgets/controls",
            "_view_module_version": "1.5.0",
            "_view_name": "HTMLView",
            "description": "",
            "description_tooltip": null,
            "layout": "IPY_MODEL_dc76ce4cc4ff4ff581ff828882ba11ec",
            "placeholder": "​",
            "style": "IPY_MODEL_6aa2427c9eb04010a0055bfc6c608044",
            "value": " 1/1 [00:19&lt;00:00, 14.99s/ url]"
          }
        },
        "68affb9bfdd84526851b36c4ea61cb38": {
          "model_module": "@jupyter-widgets/base",
          "model_name": "LayoutModel",
          "model_module_version": "1.2.0",
          "state": {
            "_model_module": "@jupyter-widgets/base",
            "_model_module_version": "1.2.0",
            "_model_name": "LayoutModel",
            "_view_count": null,
            "_view_module": "@jupyter-widgets/base",
            "_view_module_version": "1.2.0",
            "_view_name": "LayoutView",
            "align_content": null,
            "align_items": null,
            "align_self": null,
            "border": null,
            "bottom": null,
            "display": null,
            "flex": null,
            "flex_flow": null,
            "grid_area": null,
            "grid_auto_columns": null,
            "grid_auto_flow": null,
            "grid_auto_rows": null,
            "grid_column": null,
            "grid_gap": null,
            "grid_row": null,
            "grid_template_areas": null,
            "grid_template_columns": null,
            "grid_template_rows": null,
            "height": null,
            "justify_content": null,
            "justify_items": null,
            "left": null,
            "margin": null,
            "max_height": null,
            "max_width": null,
            "min_height": null,
            "min_width": null,
            "object_fit": null,
            "object_position": null,
            "order": null,
            "overflow": null,
            "overflow_x": null,
            "overflow_y": null,
            "padding": null,
            "right": null,
            "top": null,
            "visibility": null,
            "width": null
          }
        },
        "e87f4617271e4b7896476101dbf3e387": {
          "model_module": "@jupyter-widgets/base",
          "model_name": "LayoutModel",
          "model_module_version": "1.2.0",
          "state": {
            "_model_module": "@jupyter-widgets/base",
            "_model_module_version": "1.2.0",
            "_model_name": "LayoutModel",
            "_view_count": null,
            "_view_module": "@jupyter-widgets/base",
            "_view_module_version": "1.2.0",
            "_view_name": "LayoutView",
            "align_content": null,
            "align_items": null,
            "align_self": null,
            "border": null,
            "bottom": null,
            "display": null,
            "flex": null,
            "flex_flow": null,
            "grid_area": null,
            "grid_auto_columns": null,
            "grid_auto_flow": null,
            "grid_auto_rows": null,
            "grid_column": null,
            "grid_gap": null,
            "grid_row": null,
            "grid_template_areas": null,
            "grid_template_columns": null,
            "grid_template_rows": null,
            "height": null,
            "justify_content": null,
            "justify_items": null,
            "left": null,
            "margin": null,
            "max_height": null,
            "max_width": null,
            "min_height": null,
            "min_width": null,
            "object_fit": null,
            "object_position": null,
            "order": null,
            "overflow": null,
            "overflow_x": null,
            "overflow_y": null,
            "padding": null,
            "right": null,
            "top": null,
            "visibility": null,
            "width": null
          }
        },
        "8efacc82c15347a8a4f9bbba2f88d4ef": {
          "model_module": "@jupyter-widgets/controls",
          "model_name": "DescriptionStyleModel",
          "model_module_version": "1.5.0",
          "state": {
            "_model_module": "@jupyter-widgets/controls",
            "_model_module_version": "1.5.0",
            "_model_name": "DescriptionStyleModel",
            "_view_count": null,
            "_view_module": "@jupyter-widgets/base",
            "_view_module_version": "1.2.0",
            "_view_name": "StyleView",
            "description_width": ""
          }
        },
        "817621cdd81148e7bac1d6a357bf144d": {
          "model_module": "@jupyter-widgets/base",
          "model_name": "LayoutModel",
          "model_module_version": "1.2.0",
          "state": {
            "_model_module": "@jupyter-widgets/base",
            "_model_module_version": "1.2.0",
            "_model_name": "LayoutModel",
            "_view_count": null,
            "_view_module": "@jupyter-widgets/base",
            "_view_module_version": "1.2.0",
            "_view_name": "LayoutView",
            "align_content": null,
            "align_items": null,
            "align_self": null,
            "border": null,
            "bottom": null,
            "display": null,
            "flex": null,
            "flex_flow": null,
            "grid_area": null,
            "grid_auto_columns": null,
            "grid_auto_flow": null,
            "grid_auto_rows": null,
            "grid_column": null,
            "grid_gap": null,
            "grid_row": null,
            "grid_template_areas": null,
            "grid_template_columns": null,
            "grid_template_rows": null,
            "height": null,
            "justify_content": null,
            "justify_items": null,
            "left": null,
            "margin": null,
            "max_height": null,
            "max_width": null,
            "min_height": null,
            "min_width": null,
            "object_fit": null,
            "object_position": null,
            "order": null,
            "overflow": null,
            "overflow_x": null,
            "overflow_y": null,
            "padding": null,
            "right": null,
            "top": null,
            "visibility": null,
            "width": "20px"
          }
        },
        "adedb5e2d2094a71a7ca0add5090c199": {
          "model_module": "@jupyter-widgets/controls",
          "model_name": "ProgressStyleModel",
          "model_module_version": "1.5.0",
          "state": {
            "_model_module": "@jupyter-widgets/controls",
            "_model_module_version": "1.5.0",
            "_model_name": "ProgressStyleModel",
            "_view_count": null,
            "_view_module": "@jupyter-widgets/base",
            "_view_module_version": "1.2.0",
            "_view_name": "StyleView",
            "bar_color": null,
            "description_width": ""
          }
        },
        "dc76ce4cc4ff4ff581ff828882ba11ec": {
          "model_module": "@jupyter-widgets/base",
          "model_name": "LayoutModel",
          "model_module_version": "1.2.0",
          "state": {
            "_model_module": "@jupyter-widgets/base",
            "_model_module_version": "1.2.0",
            "_model_name": "LayoutModel",
            "_view_count": null,
            "_view_module": "@jupyter-widgets/base",
            "_view_module_version": "1.2.0",
            "_view_name": "LayoutView",
            "align_content": null,
            "align_items": null,
            "align_self": null,
            "border": null,
            "bottom": null,
            "display": null,
            "flex": null,
            "flex_flow": null,
            "grid_area": null,
            "grid_auto_columns": null,
            "grid_auto_flow": null,
            "grid_auto_rows": null,
            "grid_column": null,
            "grid_gap": null,
            "grid_row": null,
            "grid_template_areas": null,
            "grid_template_columns": null,
            "grid_template_rows": null,
            "height": null,
            "justify_content": null,
            "justify_items": null,
            "left": null,
            "margin": null,
            "max_height": null,
            "max_width": null,
            "min_height": null,
            "min_width": null,
            "object_fit": null,
            "object_position": null,
            "order": null,
            "overflow": null,
            "overflow_x": null,
            "overflow_y": null,
            "padding": null,
            "right": null,
            "top": null,
            "visibility": null,
            "width": null
          }
        },
        "6aa2427c9eb04010a0055bfc6c608044": {
          "model_module": "@jupyter-widgets/controls",
          "model_name": "DescriptionStyleModel",
          "model_module_version": "1.5.0",
          "state": {
            "_model_module": "@jupyter-widgets/controls",
            "_model_module_version": "1.5.0",
            "_model_name": "DescriptionStyleModel",
            "_view_count": null,
            "_view_module": "@jupyter-widgets/base",
            "_view_module_version": "1.2.0",
            "_view_name": "StyleView",
            "description_width": ""
          }
        },
        "ac8b71327fcb4d1f80c2bad6b6ee87a7": {
          "model_module": "@jupyter-widgets/controls",
          "model_name": "HBoxModel",
          "model_module_version": "1.5.0",
          "state": {
            "_dom_classes": [],
            "_model_module": "@jupyter-widgets/controls",
            "_model_module_version": "1.5.0",
            "_model_name": "HBoxModel",
            "_view_count": null,
            "_view_module": "@jupyter-widgets/controls",
            "_view_module_version": "1.5.0",
            "_view_name": "HBoxView",
            "box_style": "",
            "children": [
              "IPY_MODEL_e77bf70a2b184ac7a14cf7161c36118d",
              "IPY_MODEL_cff8164160e6473b9c9f5fd485ba00a3",
              "IPY_MODEL_61e28f35296f417f8253eaf85b102149"
            ],
            "layout": "IPY_MODEL_276bb8f22c6a4a2b9479a6b2eda0f2e6"
          }
        },
        "e77bf70a2b184ac7a14cf7161c36118d": {
          "model_module": "@jupyter-widgets/controls",
          "model_name": "HTMLModel",
          "model_module_version": "1.5.0",
          "state": {
            "_dom_classes": [],
            "_model_module": "@jupyter-widgets/controls",
            "_model_module_version": "1.5.0",
            "_model_name": "HTMLModel",
            "_view_count": null,
            "_view_module": "@jupyter-widgets/controls",
            "_view_module_version": "1.5.0",
            "_view_name": "HTMLView",
            "description": "",
            "description_tooltip": null,
            "layout": "IPY_MODEL_618bdbe681a144a6bc0e85d719c70413",
            "placeholder": "​",
            "style": "IPY_MODEL_634b4920ed6249b6b803bddc56725938",
            "value": "Dl Size...: 100%"
          }
        },
        "cff8164160e6473b9c9f5fd485ba00a3": {
          "model_module": "@jupyter-widgets/controls",
          "model_name": "FloatProgressModel",
          "model_module_version": "1.5.0",
          "state": {
            "_dom_classes": [],
            "_model_module": "@jupyter-widgets/controls",
            "_model_module_version": "1.5.0",
            "_model_name": "FloatProgressModel",
            "_view_count": null,
            "_view_module": "@jupyter-widgets/controls",
            "_view_module_version": "1.5.0",
            "_view_name": "ProgressView",
            "bar_style": "success",
            "description": "",
            "description_tooltip": null,
            "layout": "IPY_MODEL_ed0a2dae57b042878ac5ee1a9116bf4c",
            "max": 1,
            "min": 0,
            "orientation": "horizontal",
            "style": "IPY_MODEL_d882f71611c44dbabd9e5a1c8016df13",
            "value": 1
          }
        },
        "61e28f35296f417f8253eaf85b102149": {
          "model_module": "@jupyter-widgets/controls",
          "model_name": "HTMLModel",
          "model_module_version": "1.5.0",
          "state": {
            "_dom_classes": [],
            "_model_module": "@jupyter-widgets/controls",
            "_model_module_version": "1.5.0",
            "_model_name": "HTMLModel",
            "_view_count": null,
            "_view_module": "@jupyter-widgets/controls",
            "_view_module_version": "1.5.0",
            "_view_name": "HTMLView",
            "description": "",
            "description_tooltip": null,
            "layout": "IPY_MODEL_3480f15e20e34176888df0715821b600",
            "placeholder": "​",
            "style": "IPY_MODEL_5731e4cfca364d599626f1084d10e4ce",
            "value": " 162/162 [00:19&lt;00:00, 14.05 MiB/s]"
          }
        },
        "276bb8f22c6a4a2b9479a6b2eda0f2e6": {
          "model_module": "@jupyter-widgets/base",
          "model_name": "LayoutModel",
          "model_module_version": "1.2.0",
          "state": {
            "_model_module": "@jupyter-widgets/base",
            "_model_module_version": "1.2.0",
            "_model_name": "LayoutModel",
            "_view_count": null,
            "_view_module": "@jupyter-widgets/base",
            "_view_module_version": "1.2.0",
            "_view_name": "LayoutView",
            "align_content": null,
            "align_items": null,
            "align_self": null,
            "border": null,
            "bottom": null,
            "display": null,
            "flex": null,
            "flex_flow": null,
            "grid_area": null,
            "grid_auto_columns": null,
            "grid_auto_flow": null,
            "grid_auto_rows": null,
            "grid_column": null,
            "grid_gap": null,
            "grid_row": null,
            "grid_template_areas": null,
            "grid_template_columns": null,
            "grid_template_rows": null,
            "height": null,
            "justify_content": null,
            "justify_items": null,
            "left": null,
            "margin": null,
            "max_height": null,
            "max_width": null,
            "min_height": null,
            "min_width": null,
            "object_fit": null,
            "object_position": null,
            "order": null,
            "overflow": null,
            "overflow_x": null,
            "overflow_y": null,
            "padding": null,
            "right": null,
            "top": null,
            "visibility": null,
            "width": null
          }
        },
        "618bdbe681a144a6bc0e85d719c70413": {
          "model_module": "@jupyter-widgets/base",
          "model_name": "LayoutModel",
          "model_module_version": "1.2.0",
          "state": {
            "_model_module": "@jupyter-widgets/base",
            "_model_module_version": "1.2.0",
            "_model_name": "LayoutModel",
            "_view_count": null,
            "_view_module": "@jupyter-widgets/base",
            "_view_module_version": "1.2.0",
            "_view_name": "LayoutView",
            "align_content": null,
            "align_items": null,
            "align_self": null,
            "border": null,
            "bottom": null,
            "display": null,
            "flex": null,
            "flex_flow": null,
            "grid_area": null,
            "grid_auto_columns": null,
            "grid_auto_flow": null,
            "grid_auto_rows": null,
            "grid_column": null,
            "grid_gap": null,
            "grid_row": null,
            "grid_template_areas": null,
            "grid_template_columns": null,
            "grid_template_rows": null,
            "height": null,
            "justify_content": null,
            "justify_items": null,
            "left": null,
            "margin": null,
            "max_height": null,
            "max_width": null,
            "min_height": null,
            "min_width": null,
            "object_fit": null,
            "object_position": null,
            "order": null,
            "overflow": null,
            "overflow_x": null,
            "overflow_y": null,
            "padding": null,
            "right": null,
            "top": null,
            "visibility": null,
            "width": null
          }
        },
        "634b4920ed6249b6b803bddc56725938": {
          "model_module": "@jupyter-widgets/controls",
          "model_name": "DescriptionStyleModel",
          "model_module_version": "1.5.0",
          "state": {
            "_model_module": "@jupyter-widgets/controls",
            "_model_module_version": "1.5.0",
            "_model_name": "DescriptionStyleModel",
            "_view_count": null,
            "_view_module": "@jupyter-widgets/base",
            "_view_module_version": "1.2.0",
            "_view_name": "StyleView",
            "description_width": ""
          }
        },
        "ed0a2dae57b042878ac5ee1a9116bf4c": {
          "model_module": "@jupyter-widgets/base",
          "model_name": "LayoutModel",
          "model_module_version": "1.2.0",
          "state": {
            "_model_module": "@jupyter-widgets/base",
            "_model_module_version": "1.2.0",
            "_model_name": "LayoutModel",
            "_view_count": null,
            "_view_module": "@jupyter-widgets/base",
            "_view_module_version": "1.2.0",
            "_view_name": "LayoutView",
            "align_content": null,
            "align_items": null,
            "align_self": null,
            "border": null,
            "bottom": null,
            "display": null,
            "flex": null,
            "flex_flow": null,
            "grid_area": null,
            "grid_auto_columns": null,
            "grid_auto_flow": null,
            "grid_auto_rows": null,
            "grid_column": null,
            "grid_gap": null,
            "grid_row": null,
            "grid_template_areas": null,
            "grid_template_columns": null,
            "grid_template_rows": null,
            "height": null,
            "justify_content": null,
            "justify_items": null,
            "left": null,
            "margin": null,
            "max_height": null,
            "max_width": null,
            "min_height": null,
            "min_width": null,
            "object_fit": null,
            "object_position": null,
            "order": null,
            "overflow": null,
            "overflow_x": null,
            "overflow_y": null,
            "padding": null,
            "right": null,
            "top": null,
            "visibility": null,
            "width": "20px"
          }
        },
        "d882f71611c44dbabd9e5a1c8016df13": {
          "model_module": "@jupyter-widgets/controls",
          "model_name": "ProgressStyleModel",
          "model_module_version": "1.5.0",
          "state": {
            "_model_module": "@jupyter-widgets/controls",
            "_model_module_version": "1.5.0",
            "_model_name": "ProgressStyleModel",
            "_view_count": null,
            "_view_module": "@jupyter-widgets/base",
            "_view_module_version": "1.2.0",
            "_view_name": "StyleView",
            "bar_color": null,
            "description_width": ""
          }
        },
        "3480f15e20e34176888df0715821b600": {
          "model_module": "@jupyter-widgets/base",
          "model_name": "LayoutModel",
          "model_module_version": "1.2.0",
          "state": {
            "_model_module": "@jupyter-widgets/base",
            "_model_module_version": "1.2.0",
            "_model_name": "LayoutModel",
            "_view_count": null,
            "_view_module": "@jupyter-widgets/base",
            "_view_module_version": "1.2.0",
            "_view_name": "LayoutView",
            "align_content": null,
            "align_items": null,
            "align_self": null,
            "border": null,
            "bottom": null,
            "display": null,
            "flex": null,
            "flex_flow": null,
            "grid_area": null,
            "grid_auto_columns": null,
            "grid_auto_flow": null,
            "grid_auto_rows": null,
            "grid_column": null,
            "grid_gap": null,
            "grid_row": null,
            "grid_template_areas": null,
            "grid_template_columns": null,
            "grid_template_rows": null,
            "height": null,
            "justify_content": null,
            "justify_items": null,
            "left": null,
            "margin": null,
            "max_height": null,
            "max_width": null,
            "min_height": null,
            "min_width": null,
            "object_fit": null,
            "object_position": null,
            "order": null,
            "overflow": null,
            "overflow_x": null,
            "overflow_y": null,
            "padding": null,
            "right": null,
            "top": null,
            "visibility": null,
            "width": null
          }
        },
        "5731e4cfca364d599626f1084d10e4ce": {
          "model_module": "@jupyter-widgets/controls",
          "model_name": "DescriptionStyleModel",
          "model_module_version": "1.5.0",
          "state": {
            "_model_module": "@jupyter-widgets/controls",
            "_model_module_version": "1.5.0",
            "_model_name": "DescriptionStyleModel",
            "_view_count": null,
            "_view_module": "@jupyter-widgets/base",
            "_view_module_version": "1.2.0",
            "_view_name": "StyleView",
            "description_width": ""
          }
        },
        "6ca560e1b65d485185cda203b7c3db67": {
          "model_module": "@jupyter-widgets/controls",
          "model_name": "HBoxModel",
          "model_module_version": "1.5.0",
          "state": {
            "_dom_classes": [],
            "_model_module": "@jupyter-widgets/controls",
            "_model_module_version": "1.5.0",
            "_model_name": "HBoxModel",
            "_view_count": null,
            "_view_module": "@jupyter-widgets/controls",
            "_view_module_version": "1.5.0",
            "_view_name": "HBoxView",
            "box_style": "",
            "children": [
              "IPY_MODEL_c40c4b28245d4aa7a9b121db3f6ea865",
              "IPY_MODEL_7af01ac263664a2b9593019d6473b783",
              "IPY_MODEL_5e2afcb3df424f8387b84e0aa6c6e561"
            ],
            "layout": "IPY_MODEL_21e3ac284e234f9aaabb2fb6a6c4f960"
          }
        },
        "c40c4b28245d4aa7a9b121db3f6ea865": {
          "model_module": "@jupyter-widgets/controls",
          "model_name": "HTMLModel",
          "model_module_version": "1.5.0",
          "state": {
            "_dom_classes": [],
            "_model_module": "@jupyter-widgets/controls",
            "_model_module_version": "1.5.0",
            "_model_name": "HTMLModel",
            "_view_count": null,
            "_view_module": "@jupyter-widgets/controls",
            "_view_module_version": "1.5.0",
            "_view_name": "HTMLView",
            "description": "",
            "description_tooltip": null,
            "layout": "IPY_MODEL_946a8c2246624ca58d86668140ac0f6c",
            "placeholder": "​",
            "style": "IPY_MODEL_520185c3cebe44f2b43d4a0d388790f4",
            "value": "Extraction completed...: 100%"
          }
        },
        "7af01ac263664a2b9593019d6473b783": {
          "model_module": "@jupyter-widgets/controls",
          "model_name": "FloatProgressModel",
          "model_module_version": "1.5.0",
          "state": {
            "_dom_classes": [],
            "_model_module": "@jupyter-widgets/controls",
            "_model_module_version": "1.5.0",
            "_model_name": "FloatProgressModel",
            "_view_count": null,
            "_view_module": "@jupyter-widgets/controls",
            "_view_module_version": "1.5.0",
            "_view_name": "ProgressView",
            "bar_style": "success",
            "description": "",
            "description_tooltip": null,
            "layout": "IPY_MODEL_d8106b3a17514023b37cd069453f3297",
            "max": 1,
            "min": 0,
            "orientation": "horizontal",
            "style": "IPY_MODEL_675093179beb4b5fbf0ab352b89be32f",
            "value": 1
          }
        },
        "5e2afcb3df424f8387b84e0aa6c6e561": {
          "model_module": "@jupyter-widgets/controls",
          "model_name": "HTMLModel",
          "model_module_version": "1.5.0",
          "state": {
            "_dom_classes": [],
            "_model_module": "@jupyter-widgets/controls",
            "_model_module_version": "1.5.0",
            "_model_name": "HTMLModel",
            "_view_count": null,
            "_view_module": "@jupyter-widgets/controls",
            "_view_module_version": "1.5.0",
            "_view_name": "HTMLView",
            "description": "",
            "description_tooltip": null,
            "layout": "IPY_MODEL_b861fc5654fa4a389501bee769a40983",
            "placeholder": "​",
            "style": "IPY_MODEL_af15c06015d14c649e5ce01882b19803",
            "value": " 8/8 [00:19&lt;00:00, 19.66s/ file]"
          }
        },
        "21e3ac284e234f9aaabb2fb6a6c4f960": {
          "model_module": "@jupyter-widgets/base",
          "model_name": "LayoutModel",
          "model_module_version": "1.2.0",
          "state": {
            "_model_module": "@jupyter-widgets/base",
            "_model_module_version": "1.2.0",
            "_model_name": "LayoutModel",
            "_view_count": null,
            "_view_module": "@jupyter-widgets/base",
            "_view_module_version": "1.2.0",
            "_view_name": "LayoutView",
            "align_content": null,
            "align_items": null,
            "align_self": null,
            "border": null,
            "bottom": null,
            "display": null,
            "flex": null,
            "flex_flow": null,
            "grid_area": null,
            "grid_auto_columns": null,
            "grid_auto_flow": null,
            "grid_auto_rows": null,
            "grid_column": null,
            "grid_gap": null,
            "grid_row": null,
            "grid_template_areas": null,
            "grid_template_columns": null,
            "grid_template_rows": null,
            "height": null,
            "justify_content": null,
            "justify_items": null,
            "left": null,
            "margin": null,
            "max_height": null,
            "max_width": null,
            "min_height": null,
            "min_width": null,
            "object_fit": null,
            "object_position": null,
            "order": null,
            "overflow": null,
            "overflow_x": null,
            "overflow_y": null,
            "padding": null,
            "right": null,
            "top": null,
            "visibility": null,
            "width": null
          }
        },
        "946a8c2246624ca58d86668140ac0f6c": {
          "model_module": "@jupyter-widgets/base",
          "model_name": "LayoutModel",
          "model_module_version": "1.2.0",
          "state": {
            "_model_module": "@jupyter-widgets/base",
            "_model_module_version": "1.2.0",
            "_model_name": "LayoutModel",
            "_view_count": null,
            "_view_module": "@jupyter-widgets/base",
            "_view_module_version": "1.2.0",
            "_view_name": "LayoutView",
            "align_content": null,
            "align_items": null,
            "align_self": null,
            "border": null,
            "bottom": null,
            "display": null,
            "flex": null,
            "flex_flow": null,
            "grid_area": null,
            "grid_auto_columns": null,
            "grid_auto_flow": null,
            "grid_auto_rows": null,
            "grid_column": null,
            "grid_gap": null,
            "grid_row": null,
            "grid_template_areas": null,
            "grid_template_columns": null,
            "grid_template_rows": null,
            "height": null,
            "justify_content": null,
            "justify_items": null,
            "left": null,
            "margin": null,
            "max_height": null,
            "max_width": null,
            "min_height": null,
            "min_width": null,
            "object_fit": null,
            "object_position": null,
            "order": null,
            "overflow": null,
            "overflow_x": null,
            "overflow_y": null,
            "padding": null,
            "right": null,
            "top": null,
            "visibility": null,
            "width": null
          }
        },
        "520185c3cebe44f2b43d4a0d388790f4": {
          "model_module": "@jupyter-widgets/controls",
          "model_name": "DescriptionStyleModel",
          "model_module_version": "1.5.0",
          "state": {
            "_model_module": "@jupyter-widgets/controls",
            "_model_module_version": "1.5.0",
            "_model_name": "DescriptionStyleModel",
            "_view_count": null,
            "_view_module": "@jupyter-widgets/base",
            "_view_module_version": "1.2.0",
            "_view_name": "StyleView",
            "description_width": ""
          }
        },
        "d8106b3a17514023b37cd069453f3297": {
          "model_module": "@jupyter-widgets/base",
          "model_name": "LayoutModel",
          "model_module_version": "1.2.0",
          "state": {
            "_model_module": "@jupyter-widgets/base",
            "_model_module_version": "1.2.0",
            "_model_name": "LayoutModel",
            "_view_count": null,
            "_view_module": "@jupyter-widgets/base",
            "_view_module_version": "1.2.0",
            "_view_name": "LayoutView",
            "align_content": null,
            "align_items": null,
            "align_self": null,
            "border": null,
            "bottom": null,
            "display": null,
            "flex": null,
            "flex_flow": null,
            "grid_area": null,
            "grid_auto_columns": null,
            "grid_auto_flow": null,
            "grid_auto_rows": null,
            "grid_column": null,
            "grid_gap": null,
            "grid_row": null,
            "grid_template_areas": null,
            "grid_template_columns": null,
            "grid_template_rows": null,
            "height": null,
            "justify_content": null,
            "justify_items": null,
            "left": null,
            "margin": null,
            "max_height": null,
            "max_width": null,
            "min_height": null,
            "min_width": null,
            "object_fit": null,
            "object_position": null,
            "order": null,
            "overflow": null,
            "overflow_x": null,
            "overflow_y": null,
            "padding": null,
            "right": null,
            "top": null,
            "visibility": null,
            "width": "20px"
          }
        },
        "675093179beb4b5fbf0ab352b89be32f": {
          "model_module": "@jupyter-widgets/controls",
          "model_name": "ProgressStyleModel",
          "model_module_version": "1.5.0",
          "state": {
            "_model_module": "@jupyter-widgets/controls",
            "_model_module_version": "1.5.0",
            "_model_name": "ProgressStyleModel",
            "_view_count": null,
            "_view_module": "@jupyter-widgets/base",
            "_view_module_version": "1.2.0",
            "_view_name": "StyleView",
            "bar_color": null,
            "description_width": ""
          }
        },
        "b861fc5654fa4a389501bee769a40983": {
          "model_module": "@jupyter-widgets/base",
          "model_name": "LayoutModel",
          "model_module_version": "1.2.0",
          "state": {
            "_model_module": "@jupyter-widgets/base",
            "_model_module_version": "1.2.0",
            "_model_name": "LayoutModel",
            "_view_count": null,
            "_view_module": "@jupyter-widgets/base",
            "_view_module_version": "1.2.0",
            "_view_name": "LayoutView",
            "align_content": null,
            "align_items": null,
            "align_self": null,
            "border": null,
            "bottom": null,
            "display": null,
            "flex": null,
            "flex_flow": null,
            "grid_area": null,
            "grid_auto_columns": null,
            "grid_auto_flow": null,
            "grid_auto_rows": null,
            "grid_column": null,
            "grid_gap": null,
            "grid_row": null,
            "grid_template_areas": null,
            "grid_template_columns": null,
            "grid_template_rows": null,
            "height": null,
            "justify_content": null,
            "justify_items": null,
            "left": null,
            "margin": null,
            "max_height": null,
            "max_width": null,
            "min_height": null,
            "min_width": null,
            "object_fit": null,
            "object_position": null,
            "order": null,
            "overflow": null,
            "overflow_x": null,
            "overflow_y": null,
            "padding": null,
            "right": null,
            "top": null,
            "visibility": null,
            "width": null
          }
        },
        "af15c06015d14c649e5ce01882b19803": {
          "model_module": "@jupyter-widgets/controls",
          "model_name": "DescriptionStyleModel",
          "model_module_version": "1.5.0",
          "state": {
            "_model_module": "@jupyter-widgets/controls",
            "_model_module_version": "1.5.0",
            "_model_name": "DescriptionStyleModel",
            "_view_count": null,
            "_view_module": "@jupyter-widgets/base",
            "_view_module_version": "1.2.0",
            "_view_name": "StyleView",
            "description_width": ""
          }
        },
        "09c4d016760140c6bca142c4471d347e": {
          "model_module": "@jupyter-widgets/controls",
          "model_name": "HBoxModel",
          "model_module_version": "1.5.0",
          "state": {
            "_dom_classes": [],
            "_model_module": "@jupyter-widgets/controls",
            "_model_module_version": "1.5.0",
            "_model_name": "HBoxModel",
            "_view_count": null,
            "_view_module": "@jupyter-widgets/controls",
            "_view_module_version": "1.5.0",
            "_view_name": "HBoxView",
            "box_style": "",
            "children": [
              "IPY_MODEL_a6909652f5914bd9a90c5694e2093716",
              "IPY_MODEL_7cb0015842d5471395d1d4afb3d217e6",
              "IPY_MODEL_d7c7a06df84d4f0e95bb7fcfee39747e"
            ],
            "layout": "IPY_MODEL_94f275f7a62649ec8c48e157b0fe3a01"
          }
        },
        "a6909652f5914bd9a90c5694e2093716": {
          "model_module": "@jupyter-widgets/controls",
          "model_name": "HTMLModel",
          "model_module_version": "1.5.0",
          "state": {
            "_dom_classes": [],
            "_model_module": "@jupyter-widgets/controls",
            "_model_module_version": "1.5.0",
            "_model_name": "HTMLModel",
            "_view_count": null,
            "_view_module": "@jupyter-widgets/controls",
            "_view_module_version": "1.5.0",
            "_view_name": "HTMLView",
            "description": "",
            "description_tooltip": null,
            "layout": "IPY_MODEL_dbc961479c1046a98f4459b20107b804",
            "placeholder": "​",
            "style": "IPY_MODEL_44de1f4d5e0049c9803a339a3e8ca781",
            "value": "Generating splits...: 100%"
          }
        },
        "7cb0015842d5471395d1d4afb3d217e6": {
          "model_module": "@jupyter-widgets/controls",
          "model_name": "FloatProgressModel",
          "model_module_version": "1.5.0",
          "state": {
            "_dom_classes": [],
            "_model_module": "@jupyter-widgets/controls",
            "_model_module_version": "1.5.0",
            "_model_name": "FloatProgressModel",
            "_view_count": null,
            "_view_module": "@jupyter-widgets/controls",
            "_view_module_version": "1.5.0",
            "_view_name": "ProgressView",
            "bar_style": "",
            "description": "",
            "description_tooltip": null,
            "layout": "IPY_MODEL_5dcb731c4295425dbafabe5819edd15a",
            "max": 2,
            "min": 0,
            "orientation": "horizontal",
            "style": "IPY_MODEL_fe4bc1fe9ece463e9f9d395e3bee2528",
            "value": 2
          }
        },
        "d7c7a06df84d4f0e95bb7fcfee39747e": {
          "model_module": "@jupyter-widgets/controls",
          "model_name": "HTMLModel",
          "model_module_version": "1.5.0",
          "state": {
            "_dom_classes": [],
            "_model_module": "@jupyter-widgets/controls",
            "_model_module_version": "1.5.0",
            "_model_name": "HTMLModel",
            "_view_count": null,
            "_view_module": "@jupyter-widgets/controls",
            "_view_module_version": "1.5.0",
            "_view_name": "HTMLView",
            "description": "",
            "description_tooltip": null,
            "layout": "IPY_MODEL_6060e34144bc4efd83865a9d1feeb0b8",
            "placeholder": "​",
            "style": "IPY_MODEL_82606e5c97ed4940b0aa2a430ee20905",
            "value": " 2/2 [00:55&lt;00:00, 24.40s/ splits]"
          }
        },
        "94f275f7a62649ec8c48e157b0fe3a01": {
          "model_module": "@jupyter-widgets/base",
          "model_name": "LayoutModel",
          "model_module_version": "1.2.0",
          "state": {
            "_model_module": "@jupyter-widgets/base",
            "_model_module_version": "1.2.0",
            "_model_name": "LayoutModel",
            "_view_count": null,
            "_view_module": "@jupyter-widgets/base",
            "_view_module_version": "1.2.0",
            "_view_name": "LayoutView",
            "align_content": null,
            "align_items": null,
            "align_self": null,
            "border": null,
            "bottom": null,
            "display": null,
            "flex": null,
            "flex_flow": null,
            "grid_area": null,
            "grid_auto_columns": null,
            "grid_auto_flow": null,
            "grid_auto_rows": null,
            "grid_column": null,
            "grid_gap": null,
            "grid_row": null,
            "grid_template_areas": null,
            "grid_template_columns": null,
            "grid_template_rows": null,
            "height": null,
            "justify_content": null,
            "justify_items": null,
            "left": null,
            "margin": null,
            "max_height": null,
            "max_width": null,
            "min_height": null,
            "min_width": null,
            "object_fit": null,
            "object_position": null,
            "order": null,
            "overflow": null,
            "overflow_x": null,
            "overflow_y": null,
            "padding": null,
            "right": null,
            "top": null,
            "visibility": "hidden",
            "width": null
          }
        },
        "dbc961479c1046a98f4459b20107b804": {
          "model_module": "@jupyter-widgets/base",
          "model_name": "LayoutModel",
          "model_module_version": "1.2.0",
          "state": {
            "_model_module": "@jupyter-widgets/base",
            "_model_module_version": "1.2.0",
            "_model_name": "LayoutModel",
            "_view_count": null,
            "_view_module": "@jupyter-widgets/base",
            "_view_module_version": "1.2.0",
            "_view_name": "LayoutView",
            "align_content": null,
            "align_items": null,
            "align_self": null,
            "border": null,
            "bottom": null,
            "display": null,
            "flex": null,
            "flex_flow": null,
            "grid_area": null,
            "grid_auto_columns": null,
            "grid_auto_flow": null,
            "grid_auto_rows": null,
            "grid_column": null,
            "grid_gap": null,
            "grid_row": null,
            "grid_template_areas": null,
            "grid_template_columns": null,
            "grid_template_rows": null,
            "height": null,
            "justify_content": null,
            "justify_items": null,
            "left": null,
            "margin": null,
            "max_height": null,
            "max_width": null,
            "min_height": null,
            "min_width": null,
            "object_fit": null,
            "object_position": null,
            "order": null,
            "overflow": null,
            "overflow_x": null,
            "overflow_y": null,
            "padding": null,
            "right": null,
            "top": null,
            "visibility": null,
            "width": null
          }
        },
        "44de1f4d5e0049c9803a339a3e8ca781": {
          "model_module": "@jupyter-widgets/controls",
          "model_name": "DescriptionStyleModel",
          "model_module_version": "1.5.0",
          "state": {
            "_model_module": "@jupyter-widgets/controls",
            "_model_module_version": "1.5.0",
            "_model_name": "DescriptionStyleModel",
            "_view_count": null,
            "_view_module": "@jupyter-widgets/base",
            "_view_module_version": "1.2.0",
            "_view_name": "StyleView",
            "description_width": ""
          }
        },
        "5dcb731c4295425dbafabe5819edd15a": {
          "model_module": "@jupyter-widgets/base",
          "model_name": "LayoutModel",
          "model_module_version": "1.2.0",
          "state": {
            "_model_module": "@jupyter-widgets/base",
            "_model_module_version": "1.2.0",
            "_model_name": "LayoutModel",
            "_view_count": null,
            "_view_module": "@jupyter-widgets/base",
            "_view_module_version": "1.2.0",
            "_view_name": "LayoutView",
            "align_content": null,
            "align_items": null,
            "align_self": null,
            "border": null,
            "bottom": null,
            "display": null,
            "flex": null,
            "flex_flow": null,
            "grid_area": null,
            "grid_auto_columns": null,
            "grid_auto_flow": null,
            "grid_auto_rows": null,
            "grid_column": null,
            "grid_gap": null,
            "grid_row": null,
            "grid_template_areas": null,
            "grid_template_columns": null,
            "grid_template_rows": null,
            "height": null,
            "justify_content": null,
            "justify_items": null,
            "left": null,
            "margin": null,
            "max_height": null,
            "max_width": null,
            "min_height": null,
            "min_width": null,
            "object_fit": null,
            "object_position": null,
            "order": null,
            "overflow": null,
            "overflow_x": null,
            "overflow_y": null,
            "padding": null,
            "right": null,
            "top": null,
            "visibility": null,
            "width": null
          }
        },
        "fe4bc1fe9ece463e9f9d395e3bee2528": {
          "model_module": "@jupyter-widgets/controls",
          "model_name": "ProgressStyleModel",
          "model_module_version": "1.5.0",
          "state": {
            "_model_module": "@jupyter-widgets/controls",
            "_model_module_version": "1.5.0",
            "_model_name": "ProgressStyleModel",
            "_view_count": null,
            "_view_module": "@jupyter-widgets/base",
            "_view_module_version": "1.2.0",
            "_view_name": "StyleView",
            "bar_color": null,
            "description_width": ""
          }
        },
        "6060e34144bc4efd83865a9d1feeb0b8": {
          "model_module": "@jupyter-widgets/base",
          "model_name": "LayoutModel",
          "model_module_version": "1.2.0",
          "state": {
            "_model_module": "@jupyter-widgets/base",
            "_model_module_version": "1.2.0",
            "_model_name": "LayoutModel",
            "_view_count": null,
            "_view_module": "@jupyter-widgets/base",
            "_view_module_version": "1.2.0",
            "_view_name": "LayoutView",
            "align_content": null,
            "align_items": null,
            "align_self": null,
            "border": null,
            "bottom": null,
            "display": null,
            "flex": null,
            "flex_flow": null,
            "grid_area": null,
            "grid_auto_columns": null,
            "grid_auto_flow": null,
            "grid_auto_rows": null,
            "grid_column": null,
            "grid_gap": null,
            "grid_row": null,
            "grid_template_areas": null,
            "grid_template_columns": null,
            "grid_template_rows": null,
            "height": null,
            "justify_content": null,
            "justify_items": null,
            "left": null,
            "margin": null,
            "max_height": null,
            "max_width": null,
            "min_height": null,
            "min_width": null,
            "object_fit": null,
            "object_position": null,
            "order": null,
            "overflow": null,
            "overflow_x": null,
            "overflow_y": null,
            "padding": null,
            "right": null,
            "top": null,
            "visibility": null,
            "width": null
          }
        },
        "82606e5c97ed4940b0aa2a430ee20905": {
          "model_module": "@jupyter-widgets/controls",
          "model_name": "DescriptionStyleModel",
          "model_module_version": "1.5.0",
          "state": {
            "_model_module": "@jupyter-widgets/controls",
            "_model_module_version": "1.5.0",
            "_model_name": "DescriptionStyleModel",
            "_view_count": null,
            "_view_module": "@jupyter-widgets/base",
            "_view_module_version": "1.2.0",
            "_view_name": "StyleView",
            "description_width": ""
          }
        },
        "1ef0232d827c4708b0febca72fbd6b78": {
          "model_module": "@jupyter-widgets/controls",
          "model_name": "HBoxModel",
          "model_module_version": "1.5.0",
          "state": {
            "_dom_classes": [],
            "_model_module": "@jupyter-widgets/controls",
            "_model_module_version": "1.5.0",
            "_model_name": "HBoxModel",
            "_view_count": null,
            "_view_module": "@jupyter-widgets/controls",
            "_view_module_version": "1.5.0",
            "_view_name": "HBoxView",
            "box_style": "",
            "children": [
              "IPY_MODEL_a674d36da63e426881e6c6b531596e35",
              "IPY_MODEL_930cd213607d437d85f9004af94e9d12",
              "IPY_MODEL_d1b60e4dddaf4fc18f1f4cb2204ae0e0"
            ],
            "layout": "IPY_MODEL_bfbc51f41241471a8b0df7fa4a0fd01a"
          }
        },
        "a674d36da63e426881e6c6b531596e35": {
          "model_module": "@jupyter-widgets/controls",
          "model_name": "HTMLModel",
          "model_module_version": "1.5.0",
          "state": {
            "_dom_classes": [],
            "_model_module": "@jupyter-widgets/controls",
            "_model_module_version": "1.5.0",
            "_model_name": "HTMLModel",
            "_view_count": null,
            "_view_module": "@jupyter-widgets/controls",
            "_view_module_version": "1.5.0",
            "_view_name": "HTMLView",
            "description": "",
            "description_tooltip": null,
            "layout": "IPY_MODEL_e465e27f27574bf09840f6b80410c0bf",
            "placeholder": "​",
            "style": "IPY_MODEL_070998da2722435ba3c3fc6949516584",
            "value": "Generating train examples...:  99%"
          }
        },
        "930cd213607d437d85f9004af94e9d12": {
          "model_module": "@jupyter-widgets/controls",
          "model_name": "FloatProgressModel",
          "model_module_version": "1.5.0",
          "state": {
            "_dom_classes": [],
            "_model_module": "@jupyter-widgets/controls",
            "_model_module_version": "1.5.0",
            "_model_name": "FloatProgressModel",
            "_view_count": null,
            "_view_module": "@jupyter-widgets/controls",
            "_view_module_version": "1.5.0",
            "_view_name": "ProgressView",
            "bar_style": "",
            "description": "",
            "description_tooltip": null,
            "layout": "IPY_MODEL_403380f01b794f04a6d2de8bfe2d7767",
            "max": 50000,
            "min": 0,
            "orientation": "horizontal",
            "style": "IPY_MODEL_4d10a37888294b92812cf294ffffb39e",
            "value": 50000
          }
        },
        "d1b60e4dddaf4fc18f1f4cb2204ae0e0": {
          "model_module": "@jupyter-widgets/controls",
          "model_name": "HTMLModel",
          "model_module_version": "1.5.0",
          "state": {
            "_dom_classes": [],
            "_model_module": "@jupyter-widgets/controls",
            "_model_module_version": "1.5.0",
            "_model_name": "HTMLModel",
            "_view_count": null,
            "_view_module": "@jupyter-widgets/controls",
            "_view_module_version": "1.5.0",
            "_view_name": "HTMLView",
            "description": "",
            "description_tooltip": null,
            "layout": "IPY_MODEL_da9eafba83d24e6da963ef80466a7f35",
            "placeholder": "​",
            "style": "IPY_MODEL_5223029b91474034babaa8f3db05b709",
            "value": " 49604/50000 [00:45&lt;00:00, 1187.81 examples/s]"
          }
        },
        "bfbc51f41241471a8b0df7fa4a0fd01a": {
          "model_module": "@jupyter-widgets/base",
          "model_name": "LayoutModel",
          "model_module_version": "1.2.0",
          "state": {
            "_model_module": "@jupyter-widgets/base",
            "_model_module_version": "1.2.0",
            "_model_name": "LayoutModel",
            "_view_count": null,
            "_view_module": "@jupyter-widgets/base",
            "_view_module_version": "1.2.0",
            "_view_name": "LayoutView",
            "align_content": null,
            "align_items": null,
            "align_self": null,
            "border": null,
            "bottom": null,
            "display": null,
            "flex": null,
            "flex_flow": null,
            "grid_area": null,
            "grid_auto_columns": null,
            "grid_auto_flow": null,
            "grid_auto_rows": null,
            "grid_column": null,
            "grid_gap": null,
            "grid_row": null,
            "grid_template_areas": null,
            "grid_template_columns": null,
            "grid_template_rows": null,
            "height": null,
            "justify_content": null,
            "justify_items": null,
            "left": null,
            "margin": null,
            "max_height": null,
            "max_width": null,
            "min_height": null,
            "min_width": null,
            "object_fit": null,
            "object_position": null,
            "order": null,
            "overflow": null,
            "overflow_x": null,
            "overflow_y": null,
            "padding": null,
            "right": null,
            "top": null,
            "visibility": "hidden",
            "width": null
          }
        },
        "e465e27f27574bf09840f6b80410c0bf": {
          "model_module": "@jupyter-widgets/base",
          "model_name": "LayoutModel",
          "model_module_version": "1.2.0",
          "state": {
            "_model_module": "@jupyter-widgets/base",
            "_model_module_version": "1.2.0",
            "_model_name": "LayoutModel",
            "_view_count": null,
            "_view_module": "@jupyter-widgets/base",
            "_view_module_version": "1.2.0",
            "_view_name": "LayoutView",
            "align_content": null,
            "align_items": null,
            "align_self": null,
            "border": null,
            "bottom": null,
            "display": null,
            "flex": null,
            "flex_flow": null,
            "grid_area": null,
            "grid_auto_columns": null,
            "grid_auto_flow": null,
            "grid_auto_rows": null,
            "grid_column": null,
            "grid_gap": null,
            "grid_row": null,
            "grid_template_areas": null,
            "grid_template_columns": null,
            "grid_template_rows": null,
            "height": null,
            "justify_content": null,
            "justify_items": null,
            "left": null,
            "margin": null,
            "max_height": null,
            "max_width": null,
            "min_height": null,
            "min_width": null,
            "object_fit": null,
            "object_position": null,
            "order": null,
            "overflow": null,
            "overflow_x": null,
            "overflow_y": null,
            "padding": null,
            "right": null,
            "top": null,
            "visibility": null,
            "width": null
          }
        },
        "070998da2722435ba3c3fc6949516584": {
          "model_module": "@jupyter-widgets/controls",
          "model_name": "DescriptionStyleModel",
          "model_module_version": "1.5.0",
          "state": {
            "_model_module": "@jupyter-widgets/controls",
            "_model_module_version": "1.5.0",
            "_model_name": "DescriptionStyleModel",
            "_view_count": null,
            "_view_module": "@jupyter-widgets/base",
            "_view_module_version": "1.2.0",
            "_view_name": "StyleView",
            "description_width": ""
          }
        },
        "403380f01b794f04a6d2de8bfe2d7767": {
          "model_module": "@jupyter-widgets/base",
          "model_name": "LayoutModel",
          "model_module_version": "1.2.0",
          "state": {
            "_model_module": "@jupyter-widgets/base",
            "_model_module_version": "1.2.0",
            "_model_name": "LayoutModel",
            "_view_count": null,
            "_view_module": "@jupyter-widgets/base",
            "_view_module_version": "1.2.0",
            "_view_name": "LayoutView",
            "align_content": null,
            "align_items": null,
            "align_self": null,
            "border": null,
            "bottom": null,
            "display": null,
            "flex": null,
            "flex_flow": null,
            "grid_area": null,
            "grid_auto_columns": null,
            "grid_auto_flow": null,
            "grid_auto_rows": null,
            "grid_column": null,
            "grid_gap": null,
            "grid_row": null,
            "grid_template_areas": null,
            "grid_template_columns": null,
            "grid_template_rows": null,
            "height": null,
            "justify_content": null,
            "justify_items": null,
            "left": null,
            "margin": null,
            "max_height": null,
            "max_width": null,
            "min_height": null,
            "min_width": null,
            "object_fit": null,
            "object_position": null,
            "order": null,
            "overflow": null,
            "overflow_x": null,
            "overflow_y": null,
            "padding": null,
            "right": null,
            "top": null,
            "visibility": null,
            "width": null
          }
        },
        "4d10a37888294b92812cf294ffffb39e": {
          "model_module": "@jupyter-widgets/controls",
          "model_name": "ProgressStyleModel",
          "model_module_version": "1.5.0",
          "state": {
            "_model_module": "@jupyter-widgets/controls",
            "_model_module_version": "1.5.0",
            "_model_name": "ProgressStyleModel",
            "_view_count": null,
            "_view_module": "@jupyter-widgets/base",
            "_view_module_version": "1.2.0",
            "_view_name": "StyleView",
            "bar_color": null,
            "description_width": ""
          }
        },
        "da9eafba83d24e6da963ef80466a7f35": {
          "model_module": "@jupyter-widgets/base",
          "model_name": "LayoutModel",
          "model_module_version": "1.2.0",
          "state": {
            "_model_module": "@jupyter-widgets/base",
            "_model_module_version": "1.2.0",
            "_model_name": "LayoutModel",
            "_view_count": null,
            "_view_module": "@jupyter-widgets/base",
            "_view_module_version": "1.2.0",
            "_view_name": "LayoutView",
            "align_content": null,
            "align_items": null,
            "align_self": null,
            "border": null,
            "bottom": null,
            "display": null,
            "flex": null,
            "flex_flow": null,
            "grid_area": null,
            "grid_auto_columns": null,
            "grid_auto_flow": null,
            "grid_auto_rows": null,
            "grid_column": null,
            "grid_gap": null,
            "grid_row": null,
            "grid_template_areas": null,
            "grid_template_columns": null,
            "grid_template_rows": null,
            "height": null,
            "justify_content": null,
            "justify_items": null,
            "left": null,
            "margin": null,
            "max_height": null,
            "max_width": null,
            "min_height": null,
            "min_width": null,
            "object_fit": null,
            "object_position": null,
            "order": null,
            "overflow": null,
            "overflow_x": null,
            "overflow_y": null,
            "padding": null,
            "right": null,
            "top": null,
            "visibility": null,
            "width": null
          }
        },
        "5223029b91474034babaa8f3db05b709": {
          "model_module": "@jupyter-widgets/controls",
          "model_name": "DescriptionStyleModel",
          "model_module_version": "1.5.0",
          "state": {
            "_model_module": "@jupyter-widgets/controls",
            "_model_module_version": "1.5.0",
            "_model_name": "DescriptionStyleModel",
            "_view_count": null,
            "_view_module": "@jupyter-widgets/base",
            "_view_module_version": "1.2.0",
            "_view_name": "StyleView",
            "description_width": ""
          }
        },
        "be0e4565d06443f5b5429e8eee12cc81": {
          "model_module": "@jupyter-widgets/controls",
          "model_name": "HBoxModel",
          "model_module_version": "1.5.0",
          "state": {
            "_dom_classes": [],
            "_model_module": "@jupyter-widgets/controls",
            "_model_module_version": "1.5.0",
            "_model_name": "HBoxModel",
            "_view_count": null,
            "_view_module": "@jupyter-widgets/controls",
            "_view_module_version": "1.5.0",
            "_view_name": "HBoxView",
            "box_style": "",
            "children": [
              "IPY_MODEL_e77bee025e9a47a6ba43c9aa894c1cf2",
              "IPY_MODEL_354317b101cb432998aecc282330a18a",
              "IPY_MODEL_0a41db1f8bf447cfbaa49b6f28565e5a"
            ],
            "layout": "IPY_MODEL_48267d4b431449d7af4efaa816e3f54f"
          }
        },
        "e77bee025e9a47a6ba43c9aa894c1cf2": {
          "model_module": "@jupyter-widgets/controls",
          "model_name": "HTMLModel",
          "model_module_version": "1.5.0",
          "state": {
            "_dom_classes": [],
            "_model_module": "@jupyter-widgets/controls",
            "_model_module_version": "1.5.0",
            "_model_name": "HTMLModel",
            "_view_count": null,
            "_view_module": "@jupyter-widgets/controls",
            "_view_module_version": "1.5.0",
            "_view_name": "HTMLView",
            "description": "",
            "description_tooltip": null,
            "layout": "IPY_MODEL_0a487493140c458582413ffba19af8ad",
            "placeholder": "​",
            "style": "IPY_MODEL_67f14c524c4a4c479914b01df2f792a7",
            "value": "Shuffling /root/tensorflow_datasets/cifar10/3.0.2.incomplete3WFP0I/cifar10-train.tfrecord*...:  92%"
          }
        },
        "354317b101cb432998aecc282330a18a": {
          "model_module": "@jupyter-widgets/controls",
          "model_name": "FloatProgressModel",
          "model_module_version": "1.5.0",
          "state": {
            "_dom_classes": [],
            "_model_module": "@jupyter-widgets/controls",
            "_model_module_version": "1.5.0",
            "_model_name": "FloatProgressModel",
            "_view_count": null,
            "_view_module": "@jupyter-widgets/controls",
            "_view_module_version": "1.5.0",
            "_view_name": "ProgressView",
            "bar_style": "",
            "description": "",
            "description_tooltip": null,
            "layout": "IPY_MODEL_2447a49c71bf41ebab2b382d281f8baf",
            "max": 50000,
            "min": 0,
            "orientation": "horizontal",
            "style": "IPY_MODEL_8c2105e31bdf439ba49d4d2c0dc8f0d3",
            "value": 50000
          }
        },
        "0a41db1f8bf447cfbaa49b6f28565e5a": {
          "model_module": "@jupyter-widgets/controls",
          "model_name": "HTMLModel",
          "model_module_version": "1.5.0",
          "state": {
            "_dom_classes": [],
            "_model_module": "@jupyter-widgets/controls",
            "_model_module_version": "1.5.0",
            "_model_name": "HTMLModel",
            "_view_count": null,
            "_view_module": "@jupyter-widgets/controls",
            "_view_module_version": "1.5.0",
            "_view_name": "HTMLView",
            "description": "",
            "description_tooltip": null,
            "layout": "IPY_MODEL_e4e2363b06134167be010a3c48ac2425",
            "placeholder": "​",
            "style": "IPY_MODEL_747aadf54fb14583b3511ff62f2f851f",
            "value": " 46225/50000 [00:00&lt;00:00, 172669.85 examples/s]"
          }
        },
        "48267d4b431449d7af4efaa816e3f54f": {
          "model_module": "@jupyter-widgets/base",
          "model_name": "LayoutModel",
          "model_module_version": "1.2.0",
          "state": {
            "_model_module": "@jupyter-widgets/base",
            "_model_module_version": "1.2.0",
            "_model_name": "LayoutModel",
            "_view_count": null,
            "_view_module": "@jupyter-widgets/base",
            "_view_module_version": "1.2.0",
            "_view_name": "LayoutView",
            "align_content": null,
            "align_items": null,
            "align_self": null,
            "border": null,
            "bottom": null,
            "display": null,
            "flex": null,
            "flex_flow": null,
            "grid_area": null,
            "grid_auto_columns": null,
            "grid_auto_flow": null,
            "grid_auto_rows": null,
            "grid_column": null,
            "grid_gap": null,
            "grid_row": null,
            "grid_template_areas": null,
            "grid_template_columns": null,
            "grid_template_rows": null,
            "height": null,
            "justify_content": null,
            "justify_items": null,
            "left": null,
            "margin": null,
            "max_height": null,
            "max_width": null,
            "min_height": null,
            "min_width": null,
            "object_fit": null,
            "object_position": null,
            "order": null,
            "overflow": null,
            "overflow_x": null,
            "overflow_y": null,
            "padding": null,
            "right": null,
            "top": null,
            "visibility": "hidden",
            "width": null
          }
        },
        "0a487493140c458582413ffba19af8ad": {
          "model_module": "@jupyter-widgets/base",
          "model_name": "LayoutModel",
          "model_module_version": "1.2.0",
          "state": {
            "_model_module": "@jupyter-widgets/base",
            "_model_module_version": "1.2.0",
            "_model_name": "LayoutModel",
            "_view_count": null,
            "_view_module": "@jupyter-widgets/base",
            "_view_module_version": "1.2.0",
            "_view_name": "LayoutView",
            "align_content": null,
            "align_items": null,
            "align_self": null,
            "border": null,
            "bottom": null,
            "display": null,
            "flex": null,
            "flex_flow": null,
            "grid_area": null,
            "grid_auto_columns": null,
            "grid_auto_flow": null,
            "grid_auto_rows": null,
            "grid_column": null,
            "grid_gap": null,
            "grid_row": null,
            "grid_template_areas": null,
            "grid_template_columns": null,
            "grid_template_rows": null,
            "height": null,
            "justify_content": null,
            "justify_items": null,
            "left": null,
            "margin": null,
            "max_height": null,
            "max_width": null,
            "min_height": null,
            "min_width": null,
            "object_fit": null,
            "object_position": null,
            "order": null,
            "overflow": null,
            "overflow_x": null,
            "overflow_y": null,
            "padding": null,
            "right": null,
            "top": null,
            "visibility": null,
            "width": null
          }
        },
        "67f14c524c4a4c479914b01df2f792a7": {
          "model_module": "@jupyter-widgets/controls",
          "model_name": "DescriptionStyleModel",
          "model_module_version": "1.5.0",
          "state": {
            "_model_module": "@jupyter-widgets/controls",
            "_model_module_version": "1.5.0",
            "_model_name": "DescriptionStyleModel",
            "_view_count": null,
            "_view_module": "@jupyter-widgets/base",
            "_view_module_version": "1.2.0",
            "_view_name": "StyleView",
            "description_width": ""
          }
        },
        "2447a49c71bf41ebab2b382d281f8baf": {
          "model_module": "@jupyter-widgets/base",
          "model_name": "LayoutModel",
          "model_module_version": "1.2.0",
          "state": {
            "_model_module": "@jupyter-widgets/base",
            "_model_module_version": "1.2.0",
            "_model_name": "LayoutModel",
            "_view_count": null,
            "_view_module": "@jupyter-widgets/base",
            "_view_module_version": "1.2.0",
            "_view_name": "LayoutView",
            "align_content": null,
            "align_items": null,
            "align_self": null,
            "border": null,
            "bottom": null,
            "display": null,
            "flex": null,
            "flex_flow": null,
            "grid_area": null,
            "grid_auto_columns": null,
            "grid_auto_flow": null,
            "grid_auto_rows": null,
            "grid_column": null,
            "grid_gap": null,
            "grid_row": null,
            "grid_template_areas": null,
            "grid_template_columns": null,
            "grid_template_rows": null,
            "height": null,
            "justify_content": null,
            "justify_items": null,
            "left": null,
            "margin": null,
            "max_height": null,
            "max_width": null,
            "min_height": null,
            "min_width": null,
            "object_fit": null,
            "object_position": null,
            "order": null,
            "overflow": null,
            "overflow_x": null,
            "overflow_y": null,
            "padding": null,
            "right": null,
            "top": null,
            "visibility": null,
            "width": null
          }
        },
        "8c2105e31bdf439ba49d4d2c0dc8f0d3": {
          "model_module": "@jupyter-widgets/controls",
          "model_name": "ProgressStyleModel",
          "model_module_version": "1.5.0",
          "state": {
            "_model_module": "@jupyter-widgets/controls",
            "_model_module_version": "1.5.0",
            "_model_name": "ProgressStyleModel",
            "_view_count": null,
            "_view_module": "@jupyter-widgets/base",
            "_view_module_version": "1.2.0",
            "_view_name": "StyleView",
            "bar_color": null,
            "description_width": ""
          }
        },
        "e4e2363b06134167be010a3c48ac2425": {
          "model_module": "@jupyter-widgets/base",
          "model_name": "LayoutModel",
          "model_module_version": "1.2.0",
          "state": {
            "_model_module": "@jupyter-widgets/base",
            "_model_module_version": "1.2.0",
            "_model_name": "LayoutModel",
            "_view_count": null,
            "_view_module": "@jupyter-widgets/base",
            "_view_module_version": "1.2.0",
            "_view_name": "LayoutView",
            "align_content": null,
            "align_items": null,
            "align_self": null,
            "border": null,
            "bottom": null,
            "display": null,
            "flex": null,
            "flex_flow": null,
            "grid_area": null,
            "grid_auto_columns": null,
            "grid_auto_flow": null,
            "grid_auto_rows": null,
            "grid_column": null,
            "grid_gap": null,
            "grid_row": null,
            "grid_template_areas": null,
            "grid_template_columns": null,
            "grid_template_rows": null,
            "height": null,
            "justify_content": null,
            "justify_items": null,
            "left": null,
            "margin": null,
            "max_height": null,
            "max_width": null,
            "min_height": null,
            "min_width": null,
            "object_fit": null,
            "object_position": null,
            "order": null,
            "overflow": null,
            "overflow_x": null,
            "overflow_y": null,
            "padding": null,
            "right": null,
            "top": null,
            "visibility": null,
            "width": null
          }
        },
        "747aadf54fb14583b3511ff62f2f851f": {
          "model_module": "@jupyter-widgets/controls",
          "model_name": "DescriptionStyleModel",
          "model_module_version": "1.5.0",
          "state": {
            "_model_module": "@jupyter-widgets/controls",
            "_model_module_version": "1.5.0",
            "_model_name": "DescriptionStyleModel",
            "_view_count": null,
            "_view_module": "@jupyter-widgets/base",
            "_view_module_version": "1.2.0",
            "_view_name": "StyleView",
            "description_width": ""
          }
        },
        "580e82eea7cc478a9da26b61a1a771bd": {
          "model_module": "@jupyter-widgets/controls",
          "model_name": "HBoxModel",
          "model_module_version": "1.5.0",
          "state": {
            "_dom_classes": [],
            "_model_module": "@jupyter-widgets/controls",
            "_model_module_version": "1.5.0",
            "_model_name": "HBoxModel",
            "_view_count": null,
            "_view_module": "@jupyter-widgets/controls",
            "_view_module_version": "1.5.0",
            "_view_name": "HBoxView",
            "box_style": "",
            "children": [
              "IPY_MODEL_ef0595821cb049d4b631b6b3e92c5288",
              "IPY_MODEL_b3037bf1dd3b415da49a0ce8b4b7a0a1",
              "IPY_MODEL_3a91ae02df7f4e29a4b40957d1b80cdb"
            ],
            "layout": "IPY_MODEL_210c22693b264ddb865670c9b2637f28"
          }
        },
        "ef0595821cb049d4b631b6b3e92c5288": {
          "model_module": "@jupyter-widgets/controls",
          "model_name": "HTMLModel",
          "model_module_version": "1.5.0",
          "state": {
            "_dom_classes": [],
            "_model_module": "@jupyter-widgets/controls",
            "_model_module_version": "1.5.0",
            "_model_name": "HTMLModel",
            "_view_count": null,
            "_view_module": "@jupyter-widgets/controls",
            "_view_module_version": "1.5.0",
            "_view_name": "HTMLView",
            "description": "",
            "description_tooltip": null,
            "layout": "IPY_MODEL_0619d032a52a4e44a75a25c46d3a8534",
            "placeholder": "​",
            "style": "IPY_MODEL_3c96ca8a74ca49c08b49c65d1470c8d4",
            "value": "Generating test examples...:  92%"
          }
        },
        "b3037bf1dd3b415da49a0ce8b4b7a0a1": {
          "model_module": "@jupyter-widgets/controls",
          "model_name": "FloatProgressModel",
          "model_module_version": "1.5.0",
          "state": {
            "_dom_classes": [],
            "_model_module": "@jupyter-widgets/controls",
            "_model_module_version": "1.5.0",
            "_model_name": "FloatProgressModel",
            "_view_count": null,
            "_view_module": "@jupyter-widgets/controls",
            "_view_module_version": "1.5.0",
            "_view_name": "ProgressView",
            "bar_style": "",
            "description": "",
            "description_tooltip": null,
            "layout": "IPY_MODEL_7bf45b286af045f0aea2e32e6eef1c1b",
            "max": 10000,
            "min": 0,
            "orientation": "horizontal",
            "style": "IPY_MODEL_b956035b57534df69476b25f5e41488f",
            "value": 10000
          }
        },
        "3a91ae02df7f4e29a4b40957d1b80cdb": {
          "model_module": "@jupyter-widgets/controls",
          "model_name": "HTMLModel",
          "model_module_version": "1.5.0",
          "state": {
            "_dom_classes": [],
            "_model_module": "@jupyter-widgets/controls",
            "_model_module_version": "1.5.0",
            "_model_name": "HTMLModel",
            "_view_count": null,
            "_view_module": "@jupyter-widgets/controls",
            "_view_module_version": "1.5.0",
            "_view_name": "HTMLView",
            "description": "",
            "description_tooltip": null,
            "layout": "IPY_MODEL_e5709aa71ef6486092e749362f836efc",
            "placeholder": "​",
            "style": "IPY_MODEL_2ef98ef62ac34661966c425e16754a6b",
            "value": " 9210/10000 [00:08&lt;00:00, 1097.68 examples/s]"
          }
        },
        "210c22693b264ddb865670c9b2637f28": {
          "model_module": "@jupyter-widgets/base",
          "model_name": "LayoutModel",
          "model_module_version": "1.2.0",
          "state": {
            "_model_module": "@jupyter-widgets/base",
            "_model_module_version": "1.2.0",
            "_model_name": "LayoutModel",
            "_view_count": null,
            "_view_module": "@jupyter-widgets/base",
            "_view_module_version": "1.2.0",
            "_view_name": "LayoutView",
            "align_content": null,
            "align_items": null,
            "align_self": null,
            "border": null,
            "bottom": null,
            "display": null,
            "flex": null,
            "flex_flow": null,
            "grid_area": null,
            "grid_auto_columns": null,
            "grid_auto_flow": null,
            "grid_auto_rows": null,
            "grid_column": null,
            "grid_gap": null,
            "grid_row": null,
            "grid_template_areas": null,
            "grid_template_columns": null,
            "grid_template_rows": null,
            "height": null,
            "justify_content": null,
            "justify_items": null,
            "left": null,
            "margin": null,
            "max_height": null,
            "max_width": null,
            "min_height": null,
            "min_width": null,
            "object_fit": null,
            "object_position": null,
            "order": null,
            "overflow": null,
            "overflow_x": null,
            "overflow_y": null,
            "padding": null,
            "right": null,
            "top": null,
            "visibility": "hidden",
            "width": null
          }
        },
        "0619d032a52a4e44a75a25c46d3a8534": {
          "model_module": "@jupyter-widgets/base",
          "model_name": "LayoutModel",
          "model_module_version": "1.2.0",
          "state": {
            "_model_module": "@jupyter-widgets/base",
            "_model_module_version": "1.2.0",
            "_model_name": "LayoutModel",
            "_view_count": null,
            "_view_module": "@jupyter-widgets/base",
            "_view_module_version": "1.2.0",
            "_view_name": "LayoutView",
            "align_content": null,
            "align_items": null,
            "align_self": null,
            "border": null,
            "bottom": null,
            "display": null,
            "flex": null,
            "flex_flow": null,
            "grid_area": null,
            "grid_auto_columns": null,
            "grid_auto_flow": null,
            "grid_auto_rows": null,
            "grid_column": null,
            "grid_gap": null,
            "grid_row": null,
            "grid_template_areas": null,
            "grid_template_columns": null,
            "grid_template_rows": null,
            "height": null,
            "justify_content": null,
            "justify_items": null,
            "left": null,
            "margin": null,
            "max_height": null,
            "max_width": null,
            "min_height": null,
            "min_width": null,
            "object_fit": null,
            "object_position": null,
            "order": null,
            "overflow": null,
            "overflow_x": null,
            "overflow_y": null,
            "padding": null,
            "right": null,
            "top": null,
            "visibility": null,
            "width": null
          }
        },
        "3c96ca8a74ca49c08b49c65d1470c8d4": {
          "model_module": "@jupyter-widgets/controls",
          "model_name": "DescriptionStyleModel",
          "model_module_version": "1.5.0",
          "state": {
            "_model_module": "@jupyter-widgets/controls",
            "_model_module_version": "1.5.0",
            "_model_name": "DescriptionStyleModel",
            "_view_count": null,
            "_view_module": "@jupyter-widgets/base",
            "_view_module_version": "1.2.0",
            "_view_name": "StyleView",
            "description_width": ""
          }
        },
        "7bf45b286af045f0aea2e32e6eef1c1b": {
          "model_module": "@jupyter-widgets/base",
          "model_name": "LayoutModel",
          "model_module_version": "1.2.0",
          "state": {
            "_model_module": "@jupyter-widgets/base",
            "_model_module_version": "1.2.0",
            "_model_name": "LayoutModel",
            "_view_count": null,
            "_view_module": "@jupyter-widgets/base",
            "_view_module_version": "1.2.0",
            "_view_name": "LayoutView",
            "align_content": null,
            "align_items": null,
            "align_self": null,
            "border": null,
            "bottom": null,
            "display": null,
            "flex": null,
            "flex_flow": null,
            "grid_area": null,
            "grid_auto_columns": null,
            "grid_auto_flow": null,
            "grid_auto_rows": null,
            "grid_column": null,
            "grid_gap": null,
            "grid_row": null,
            "grid_template_areas": null,
            "grid_template_columns": null,
            "grid_template_rows": null,
            "height": null,
            "justify_content": null,
            "justify_items": null,
            "left": null,
            "margin": null,
            "max_height": null,
            "max_width": null,
            "min_height": null,
            "min_width": null,
            "object_fit": null,
            "object_position": null,
            "order": null,
            "overflow": null,
            "overflow_x": null,
            "overflow_y": null,
            "padding": null,
            "right": null,
            "top": null,
            "visibility": null,
            "width": null
          }
        },
        "b956035b57534df69476b25f5e41488f": {
          "model_module": "@jupyter-widgets/controls",
          "model_name": "ProgressStyleModel",
          "model_module_version": "1.5.0",
          "state": {
            "_model_module": "@jupyter-widgets/controls",
            "_model_module_version": "1.5.0",
            "_model_name": "ProgressStyleModel",
            "_view_count": null,
            "_view_module": "@jupyter-widgets/base",
            "_view_module_version": "1.2.0",
            "_view_name": "StyleView",
            "bar_color": null,
            "description_width": ""
          }
        },
        "e5709aa71ef6486092e749362f836efc": {
          "model_module": "@jupyter-widgets/base",
          "model_name": "LayoutModel",
          "model_module_version": "1.2.0",
          "state": {
            "_model_module": "@jupyter-widgets/base",
            "_model_module_version": "1.2.0",
            "_model_name": "LayoutModel",
            "_view_count": null,
            "_view_module": "@jupyter-widgets/base",
            "_view_module_version": "1.2.0",
            "_view_name": "LayoutView",
            "align_content": null,
            "align_items": null,
            "align_self": null,
            "border": null,
            "bottom": null,
            "display": null,
            "flex": null,
            "flex_flow": null,
            "grid_area": null,
            "grid_auto_columns": null,
            "grid_auto_flow": null,
            "grid_auto_rows": null,
            "grid_column": null,
            "grid_gap": null,
            "grid_row": null,
            "grid_template_areas": null,
            "grid_template_columns": null,
            "grid_template_rows": null,
            "height": null,
            "justify_content": null,
            "justify_items": null,
            "left": null,
            "margin": null,
            "max_height": null,
            "max_width": null,
            "min_height": null,
            "min_width": null,
            "object_fit": null,
            "object_position": null,
            "order": null,
            "overflow": null,
            "overflow_x": null,
            "overflow_y": null,
            "padding": null,
            "right": null,
            "top": null,
            "visibility": null,
            "width": null
          }
        },
        "2ef98ef62ac34661966c425e16754a6b": {
          "model_module": "@jupyter-widgets/controls",
          "model_name": "DescriptionStyleModel",
          "model_module_version": "1.5.0",
          "state": {
            "_model_module": "@jupyter-widgets/controls",
            "_model_module_version": "1.5.0",
            "_model_name": "DescriptionStyleModel",
            "_view_count": null,
            "_view_module": "@jupyter-widgets/base",
            "_view_module_version": "1.2.0",
            "_view_name": "StyleView",
            "description_width": ""
          }
        },
        "206cb0fd084f46b6ae374aa9b6844dc5": {
          "model_module": "@jupyter-widgets/controls",
          "model_name": "HBoxModel",
          "model_module_version": "1.5.0",
          "state": {
            "_dom_classes": [],
            "_model_module": "@jupyter-widgets/controls",
            "_model_module_version": "1.5.0",
            "_model_name": "HBoxModel",
            "_view_count": null,
            "_view_module": "@jupyter-widgets/controls",
            "_view_module_version": "1.5.0",
            "_view_name": "HBoxView",
            "box_style": "",
            "children": [
              "IPY_MODEL_9cb2f94fe7a04c66816d87a07587427b",
              "IPY_MODEL_7d293951d8ac456aba13a8b2097007ec",
              "IPY_MODEL_bf1df6fde00c492a8de38fed74552697"
            ],
            "layout": "IPY_MODEL_0a88947b77064e84ab16a23165416583"
          }
        },
        "9cb2f94fe7a04c66816d87a07587427b": {
          "model_module": "@jupyter-widgets/controls",
          "model_name": "HTMLModel",
          "model_module_version": "1.5.0",
          "state": {
            "_dom_classes": [],
            "_model_module": "@jupyter-widgets/controls",
            "_model_module_version": "1.5.0",
            "_model_name": "HTMLModel",
            "_view_count": null,
            "_view_module": "@jupyter-widgets/controls",
            "_view_module_version": "1.5.0",
            "_view_name": "HTMLView",
            "description": "",
            "description_tooltip": null,
            "layout": "IPY_MODEL_8a92adfbb7f842b2b6b052bd8ee97b64",
            "placeholder": "​",
            "style": "IPY_MODEL_10df338b98214068a7d7f841fdc6268e",
            "value": "Shuffling /root/tensorflow_datasets/cifar10/3.0.2.incomplete3WFP0I/cifar10-test.tfrecord*...:   0%"
          }
        },
        "7d293951d8ac456aba13a8b2097007ec": {
          "model_module": "@jupyter-widgets/controls",
          "model_name": "FloatProgressModel",
          "model_module_version": "1.5.0",
          "state": {
            "_dom_classes": [],
            "_model_module": "@jupyter-widgets/controls",
            "_model_module_version": "1.5.0",
            "_model_name": "FloatProgressModel",
            "_view_count": null,
            "_view_module": "@jupyter-widgets/controls",
            "_view_module_version": "1.5.0",
            "_view_name": "ProgressView",
            "bar_style": "",
            "description": "",
            "description_tooltip": null,
            "layout": "IPY_MODEL_767c63e180c04d14a20dd67c21a04f1e",
            "max": 10000,
            "min": 0,
            "orientation": "horizontal",
            "style": "IPY_MODEL_996aedeb5d2341d0b91f2c120b6588fc",
            "value": 10000
          }
        },
        "bf1df6fde00c492a8de38fed74552697": {
          "model_module": "@jupyter-widgets/controls",
          "model_name": "HTMLModel",
          "model_module_version": "1.5.0",
          "state": {
            "_dom_classes": [],
            "_model_module": "@jupyter-widgets/controls",
            "_model_module_version": "1.5.0",
            "_model_name": "HTMLModel",
            "_view_count": null,
            "_view_module": "@jupyter-widgets/controls",
            "_view_module_version": "1.5.0",
            "_view_name": "HTMLView",
            "description": "",
            "description_tooltip": null,
            "layout": "IPY_MODEL_c43ee6c0a256404db01e44544339dcf4",
            "placeholder": "​",
            "style": "IPY_MODEL_9ea1133c5f8f490694d90973aa4f3218",
            "value": " 0/10000 [00:00&lt;?, ? examples/s]"
          }
        },
        "0a88947b77064e84ab16a23165416583": {
          "model_module": "@jupyter-widgets/base",
          "model_name": "LayoutModel",
          "model_module_version": "1.2.0",
          "state": {
            "_model_module": "@jupyter-widgets/base",
            "_model_module_version": "1.2.0",
            "_model_name": "LayoutModel",
            "_view_count": null,
            "_view_module": "@jupyter-widgets/base",
            "_view_module_version": "1.2.0",
            "_view_name": "LayoutView",
            "align_content": null,
            "align_items": null,
            "align_self": null,
            "border": null,
            "bottom": null,
            "display": null,
            "flex": null,
            "flex_flow": null,
            "grid_area": null,
            "grid_auto_columns": null,
            "grid_auto_flow": null,
            "grid_auto_rows": null,
            "grid_column": null,
            "grid_gap": null,
            "grid_row": null,
            "grid_template_areas": null,
            "grid_template_columns": null,
            "grid_template_rows": null,
            "height": null,
            "justify_content": null,
            "justify_items": null,
            "left": null,
            "margin": null,
            "max_height": null,
            "max_width": null,
            "min_height": null,
            "min_width": null,
            "object_fit": null,
            "object_position": null,
            "order": null,
            "overflow": null,
            "overflow_x": null,
            "overflow_y": null,
            "padding": null,
            "right": null,
            "top": null,
            "visibility": "hidden",
            "width": null
          }
        },
        "8a92adfbb7f842b2b6b052bd8ee97b64": {
          "model_module": "@jupyter-widgets/base",
          "model_name": "LayoutModel",
          "model_module_version": "1.2.0",
          "state": {
            "_model_module": "@jupyter-widgets/base",
            "_model_module_version": "1.2.0",
            "_model_name": "LayoutModel",
            "_view_count": null,
            "_view_module": "@jupyter-widgets/base",
            "_view_module_version": "1.2.0",
            "_view_name": "LayoutView",
            "align_content": null,
            "align_items": null,
            "align_self": null,
            "border": null,
            "bottom": null,
            "display": null,
            "flex": null,
            "flex_flow": null,
            "grid_area": null,
            "grid_auto_columns": null,
            "grid_auto_flow": null,
            "grid_auto_rows": null,
            "grid_column": null,
            "grid_gap": null,
            "grid_row": null,
            "grid_template_areas": null,
            "grid_template_columns": null,
            "grid_template_rows": null,
            "height": null,
            "justify_content": null,
            "justify_items": null,
            "left": null,
            "margin": null,
            "max_height": null,
            "max_width": null,
            "min_height": null,
            "min_width": null,
            "object_fit": null,
            "object_position": null,
            "order": null,
            "overflow": null,
            "overflow_x": null,
            "overflow_y": null,
            "padding": null,
            "right": null,
            "top": null,
            "visibility": null,
            "width": null
          }
        },
        "10df338b98214068a7d7f841fdc6268e": {
          "model_module": "@jupyter-widgets/controls",
          "model_name": "DescriptionStyleModel",
          "model_module_version": "1.5.0",
          "state": {
            "_model_module": "@jupyter-widgets/controls",
            "_model_module_version": "1.5.0",
            "_model_name": "DescriptionStyleModel",
            "_view_count": null,
            "_view_module": "@jupyter-widgets/base",
            "_view_module_version": "1.2.0",
            "_view_name": "StyleView",
            "description_width": ""
          }
        },
        "767c63e180c04d14a20dd67c21a04f1e": {
          "model_module": "@jupyter-widgets/base",
          "model_name": "LayoutModel",
          "model_module_version": "1.2.0",
          "state": {
            "_model_module": "@jupyter-widgets/base",
            "_model_module_version": "1.2.0",
            "_model_name": "LayoutModel",
            "_view_count": null,
            "_view_module": "@jupyter-widgets/base",
            "_view_module_version": "1.2.0",
            "_view_name": "LayoutView",
            "align_content": null,
            "align_items": null,
            "align_self": null,
            "border": null,
            "bottom": null,
            "display": null,
            "flex": null,
            "flex_flow": null,
            "grid_area": null,
            "grid_auto_columns": null,
            "grid_auto_flow": null,
            "grid_auto_rows": null,
            "grid_column": null,
            "grid_gap": null,
            "grid_row": null,
            "grid_template_areas": null,
            "grid_template_columns": null,
            "grid_template_rows": null,
            "height": null,
            "justify_content": null,
            "justify_items": null,
            "left": null,
            "margin": null,
            "max_height": null,
            "max_width": null,
            "min_height": null,
            "min_width": null,
            "object_fit": null,
            "object_position": null,
            "order": null,
            "overflow": null,
            "overflow_x": null,
            "overflow_y": null,
            "padding": null,
            "right": null,
            "top": null,
            "visibility": null,
            "width": null
          }
        },
        "996aedeb5d2341d0b91f2c120b6588fc": {
          "model_module": "@jupyter-widgets/controls",
          "model_name": "ProgressStyleModel",
          "model_module_version": "1.5.0",
          "state": {
            "_model_module": "@jupyter-widgets/controls",
            "_model_module_version": "1.5.0",
            "_model_name": "ProgressStyleModel",
            "_view_count": null,
            "_view_module": "@jupyter-widgets/base",
            "_view_module_version": "1.2.0",
            "_view_name": "StyleView",
            "bar_color": null,
            "description_width": ""
          }
        },
        "c43ee6c0a256404db01e44544339dcf4": {
          "model_module": "@jupyter-widgets/base",
          "model_name": "LayoutModel",
          "model_module_version": "1.2.0",
          "state": {
            "_model_module": "@jupyter-widgets/base",
            "_model_module_version": "1.2.0",
            "_model_name": "LayoutModel",
            "_view_count": null,
            "_view_module": "@jupyter-widgets/base",
            "_view_module_version": "1.2.0",
            "_view_name": "LayoutView",
            "align_content": null,
            "align_items": null,
            "align_self": null,
            "border": null,
            "bottom": null,
            "display": null,
            "flex": null,
            "flex_flow": null,
            "grid_area": null,
            "grid_auto_columns": null,
            "grid_auto_flow": null,
            "grid_auto_rows": null,
            "grid_column": null,
            "grid_gap": null,
            "grid_row": null,
            "grid_template_areas": null,
            "grid_template_columns": null,
            "grid_template_rows": null,
            "height": null,
            "justify_content": null,
            "justify_items": null,
            "left": null,
            "margin": null,
            "max_height": null,
            "max_width": null,
            "min_height": null,
            "min_width": null,
            "object_fit": null,
            "object_position": null,
            "order": null,
            "overflow": null,
            "overflow_x": null,
            "overflow_y": null,
            "padding": null,
            "right": null,
            "top": null,
            "visibility": null,
            "width": null
          }
        },
        "9ea1133c5f8f490694d90973aa4f3218": {
          "model_module": "@jupyter-widgets/controls",
          "model_name": "DescriptionStyleModel",
          "model_module_version": "1.5.0",
          "state": {
            "_model_module": "@jupyter-widgets/controls",
            "_model_module_version": "1.5.0",
            "_model_name": "DescriptionStyleModel",
            "_view_count": null,
            "_view_module": "@jupyter-widgets/base",
            "_view_module_version": "1.2.0",
            "_view_name": "StyleView",
            "description_width": ""
          }
        }
      }
    }
  },
  "nbformat": 4,
  "nbformat_minor": 0
}