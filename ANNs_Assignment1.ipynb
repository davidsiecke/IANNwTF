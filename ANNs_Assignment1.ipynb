{
  "nbformat": 4,
  "nbformat_minor": 0,
  "metadata": {
    "colab": {
      "provenance": []
    },
    "kernelspec": {
      "name": "python3",
      "display_name": "Python 3"
    },
    "language_info": {
      "name": "python"
    }
  },
  "cells": [
    {
      "cell_type": "markdown",
      "source": [
        "# 1 Multi-Layer Perceptron"
      ],
      "metadata": {
        "id": "FUkVCsvIaU52"
      }
    },
    {
      "cell_type": "markdown",
      "source": [
        "## 1.1 Data"
      ],
      "metadata": {
        "id": "HvTxCs4vagC7"
      }
    },
    {
      "cell_type": "markdown",
      "source": [
        "Loading the dataset"
      ],
      "metadata": {
        "id": "cYR55Ym4cEwe"
      }
    },
    {
      "cell_type": "code",
      "execution_count": 1,
      "metadata": {
        "id": "5KGWArv-XWVz",
        "colab": {
          "base_uri": "https://localhost:8080/"
        },
        "outputId": "0fb8f9cd-0a0c-4741-b014-fd3516a87d93"
      },
      "outputs": [
        {
          "output_type": "stream",
          "name": "stdout",
          "text": [
            "[0 1 2 3 4 5 6 7 8 9 0 1 2 3 4 5 6 7 8 9]\n"
          ]
        }
      ],
      "source": [
        "from sklearn import datasets\n",
        "import numpy as np\n",
        "import matplotlib.pyplot as plt\n",
        "\n",
        "data = datasets.load_digits(return_X_y=True)\n",
        "(inputs, targets) = data\n",
        "\n",
        "print(targets[0:20])"
      ]
    },
    {
      "cell_type": "markdown",
      "source": [
        "Plotting first two images in the dataset"
      ],
      "metadata": {
        "id": "qRRxxU1ecLTM"
      }
    },
    {
      "cell_type": "code",
      "source": [
        "input0_plotting = inputs[0].reshape(8,8)\n",
        "input1_plotting = inputs[1].reshape(8,8)\n",
        "\n",
        "# first image in the dataset\n",
        "fig0, ax0 = plt.subplots()\n",
        "ax0.matshow(input0_plotting, cmap=\"Greys\")\n",
        "plt.show()"
      ],
      "metadata": {
        "colab": {
          "base_uri": "https://localhost:8080/",
          "height": 435
        },
        "id": "j4IdgxN0Y2Ve",
        "outputId": "d8cd2857-8215-48b7-d57d-c8a8a1ad8a11"
      },
      "execution_count": 2,
      "outputs": [
        {
          "output_type": "display_data",
          "data": {
            "text/plain": [
              "<Figure size 640x480 with 1 Axes>"
            ],
            "image/png": "[encoded data removed]"
          },
          "metadata": {}
        }
      ]
    },
    {
      "cell_type": "code",
      "source": [
        "# second image in the dataset\n",
        "fig1, ax1 = plt.subplots()\n",
        "ax1.matshow(input1_plotting, cmap=\"Greys\")\n",
        "plt.show()"
      ],
      "metadata": {
        "colab": {
          "base_uri": "https://localhost:8080/",
          "height": 435
        },
        "id": "ROX8eGYTd_U0",
        "outputId": "69217e91-bc7b-4934-f17d-f69cac2ed0e6"
      },
      "execution_count": 3,
      "outputs": [
        {
          "output_type": "display_data",
          "data": {
            "text/plain": [
              "<Figure size 640x480 with 1 Axes>"
            ],
            "image/png": "[encoded data removed]"
          },
          "metadata": {}
        }
      ]
    },
    {
      "cell_type": "markdown",
      "source": [
        "Reshape images to shape (64)"
      ],
      "metadata": {
        "id": "Ej9vXV5rhJaz"
      }
    },
    {
      "cell_type": "code",
      "source": [
        "inputs[0].shape\n",
        "# we see that the images already have shape (64)"
      ],
      "metadata": {
        "colab": {
          "base_uri": "https://localhost:8080/"
        },
        "id": "dY8sr0DOhffZ",
        "outputId": "818d8bd3-c9a2-4d8d-b5b1-aed62c85cd8d"
      },
      "execution_count": 4,
      "outputs": [
        {
          "output_type": "execute_result",
          "data": {
            "text/plain": [
              "(64,)"
            ]
          },
          "metadata": {},
          "execution_count": 4
        }
      ]
    },
    {
      "cell_type": "markdown",
      "source": [
        "Make sure the images are represented as float32 values within either [0 to 1] or [-1 to 1] range"
      ],
      "metadata": {
        "id": "YxKv7a-Ce6EQ"
      }
    },
    {
      "cell_type": "code",
      "source": [
        "type(inputs[0,0])"
      ],
      "metadata": {
        "colab": {
          "base_uri": "https://localhost:8080/"
        },
        "id": "9r_iCeRkfFGL",
        "outputId": "6fd7e84f-ffc9-4703-c0a1-34841a4c88e1"
      },
      "execution_count": 5,
      "outputs": [
        {
          "output_type": "execute_result",
          "data": {
            "text/plain": [
              "numpy.float64"
            ]
          },
          "metadata": {},
          "execution_count": 5
        }
      ]
    },
    {
      "cell_type": "code",
      "source": [
        "# as pixel values seem to be represented as float64 values, we cast them to float32 values.\n",
        "inputs = inputs.astype(\"float32\")"
      ],
      "metadata": {
        "id": "bf6ldXEHhF9F"
      },
      "execution_count": 6,
      "outputs": []
    },
    {
      "cell_type": "code",
      "source": [
        "print(np.min(inputs), np.max(inputs))"
      ],
      "metadata": {
        "colab": {
          "base_uri": "https://localhost:8080/"
        },
        "id": "VUuXW8b3lmmA",
        "outputId": "ab6f37d3-3104-47a8-8387-b080fada0075"
      },
      "execution_count": 7,
      "outputs": [
        {
          "output_type": "stream",
          "name": "stdout",
          "text": [
            "0.0 16.0\n"
          ]
        }
      ]
    },
    {
      "cell_type": "code",
      "source": [
        "# we see that the minimum is fine, but the maximum is >1, so we rescale the\n",
        "# inputs to range [0 to 1]\n",
        "inputs = (inputs-np.min(inputs))/(np.max(inputs)-np.min(inputs))"
      ],
      "metadata": {
        "id": "fKhnCa2KmeuE"
      },
      "execution_count": 8,
      "outputs": []
    },
    {
      "cell_type": "markdown",
      "source": [
        "One-hot encode the target digits (e.g. the target digit 2 would be represented as [0,0,1,0,0,0,0,0,0,0], 9 as [0,0,0,0,0,0,0,0,0,9]). Onehot encoded vectors should have the shape (10) or (1,10) up to your preference"
      ],
      "metadata": {
        "id": "aer3oBEloGHH"
      }
    },
    {
      "cell_type": "code",
      "source": [
        "one_hots = np.eye(N=10)\n",
        "targets_oh = np.array(list(map(lambda target: one_hots[target], targets)))"
      ],
      "metadata": {
        "id": "VvkvZKGYoSbl"
      },
      "execution_count": 9,
      "outputs": []
    },
    {
      "cell_type": "markdown",
      "source": [
        "Write a generator function, which shuffles the (input, target) pairs (keeping the respective input and target together).\n",
        "\n",
        "Adjust your generator function to create minibatches."
      ],
      "metadata": {
        "id": "6qD0iMm2cSws"
      }
    },
    {
      "cell_type": "code",
      "source": [
        "def shuffle_and_batch_data(inputs, targets, minibatch_size):\n",
        "    # create an index vector\n",
        "    indices = np.arange(len(inputs))\n",
        "    np.random.shuffle(indices)\n",
        "\n",
        "    # shuffle inputs and targets\n",
        "    shuffled_inputs = inputs[indices]\n",
        "    shuffled_targets = targets[indices]\n",
        "\n",
        "    # calculate the number of minibatches\n",
        "    num_minibatches = len(inputs) // minibatch_size\n",
        "\n",
        "    for i in range(num_minibatches):\n",
        "      # calculate the indices delimiting the current minibatch\n",
        "      start_idx = i * minibatch_size\n",
        "      end_idx = (i + 1) * minibatch_size\n",
        "\n",
        "      # bundle training examples into minibatches\n",
        "      minibatch_inputs = shuffled_inputs[start_idx:end_idx]\n",
        "      minibatch_targets = shuffled_targets[start_idx:end_idx]\n",
        "\n",
        "      yield minibatch_inputs, minibatch_targets"
      ],
      "metadata": {
        "id": "kQ9YMLwxyIHg"
      },
      "execution_count": 10,
      "outputs": []
    },
    {
      "cell_type": "markdown",
      "source": [
        "## 1.2 Sigmoid Activation Function\n",
        "\n",
        "Implement the Sigmoid Activation Function as an object with a call function (we will later add a backwards function for backpropagation, this being the reason its implemented as an object). It should expect inputs as ndarrays of shape minibatchsize, num units."
      ],
      "metadata": {
        "id": "4hE-nUl22br8"
      }
    },
    {
      "cell_type": "code",
      "source": [
        "class Sigmoid():\n",
        "  def __call__(self, pre_act):\n",
        "    return np.exp(pre_act) / (1 + np.exp(pre_act))"
      ],
      "metadata": {
        "id": "5Z46-rNq2bVR"
      },
      "execution_count": 11,
      "outputs": []
    },
    {
      "cell_type": "markdown",
      "source": [
        "## 1.3 Softmax Activation Function\n",
        "Implement the the softmax in Numpy, again as an object with a call function, which expects inputs of size minibatchsize,10 [because there are 10 neurons in the output layer], where each 1,10 subelement represents a vector as discussed above"
      ],
      "metadata": {
        "id": "NvdQjCyIMHGg"
      }
    },
    {
      "cell_type": "code",
      "source": [
        "class Softmax():\n",
        "\n",
        "    def __call__(self, pre_acts):\n",
        "\n",
        "        # for each of the samples in the minibatch the sum of the preactivations of the last layer has to be calculated, so axis=1 since per row\n",
        "        sum_of_preactivations = pre_acts.sum(axis=1).reshape(pre_acts.shape[0],1) # shape = (minibatchsize,1)\n",
        "\n",
        "        list_outputs=[]\n",
        "        # each output of each sample in the minibatch is divided by the sum of all outputs in their sample and stored in a list\n",
        "        for z_i, sum_z_j in zip(pre_acts, sum_of_preactivations):\n",
        "            list_outputs.append(z_i/sum_z_j)\n",
        "\n",
        "        activations = np.array(list_outputs).reshape(pre_acts.shape)\n",
        "        return activations"
      ],
      "metadata": {
        "id": "lOUvfh79LETT"
      },
      "execution_count": 12,
      "outputs": []
    },
    {
      "cell_type": "markdown",
      "source": [
        "## 1.4 Weights\n",
        "\n",
        "Implement a class representing an MLP layer. The constructor should specify the activation function (Sigmoid or Softmax as implemented above), as well as the number of units (Perceptrons) in this layer, and the input size (number of units in the preceding layer). It should create attributes for the weight matrix and a bias vector (or absorb the bias vector into the weight matrix as discussed in the lecture, depending on your preference). Initialize the weights as small random values (e.g. from a normal distribution with μ = 0., σ = 0.2), and bias values set to zero.\n",
        "Implement a forward function, which accepts an input of shape minibatchsize, input size, and outputs an ndarray of shape minibatchsize,num units after applying the\n",
        "weight matrix, the bias and the activation function."
      ],
      "metadata": {
        "id": "1MJg7V4rZZXW"
      }
    },
    {
      "cell_type": "code",
      "source": [
        "class Layer():\n",
        "\n",
        "  def __init__(self, layer_size, input_size, act_func):\n",
        "    self.layer_size = layer_size\n",
        "    self.input_size = input_size\n",
        "    self.act_func = act_func\n",
        "\n",
        "    self.weights = np.random.normal(0., 0.2, size=(self.input_size, self.layer_size))\n",
        "    self.biases = np.zeros((1,self.layer_size))\n",
        "\n",
        "    self.activation_prevL = None # value set in __call__(); used in backwards()\n",
        "\n",
        "  def __call__(self, inputs):\n",
        "    self.activation_prevL = inputs\n",
        "    return inputs@self.weights + self.biases   # this is the preactivation"
      ],
      "metadata": {
        "id": "UeVGWcDeZmqt"
      },
      "execution_count": 13,
      "outputs": []
    },
    {
      "cell_type": "markdown",
      "source": [
        "## 1.5 Putting together the MLP\n",
        "\n",
        "Implement a class representing a full MLP. You should be able to specify the number of layers, as well as the size of each layer separately in the constructor. Remember the initial input will be shaped minibatchsize,64, the final output will be shaped minibatchsize, 10. The MLP should have an attribute, which is a list of all the MLP layers it contains.\n"
      ],
      "metadata": {
        "id": "PwQPx1YXlc75"
      }
    },
    {
      "cell_type": "code",
      "source": [
        "class MLP():\n",
        "\n",
        "  def __init__(self, number_layers, input_layer_size, layer_sizes):\n",
        "    self.number_layers = number_layers\n",
        "    self.layer_sizes = layer_sizes\n",
        "\n",
        "    self.preactivations = [] # populated in call(), used in backwards()\n",
        "    self.activations = [] # populated in call(), used in backwards()\n",
        "    self.losses = [] # populated and used in backwards()\n",
        "\n",
        "    layers_list = []\n",
        "    for i in range(self.number_layers):\n",
        "      # input size is the size of the previous layer. this holds for all layers except for the first, where the size of the previous layer is the input size.\n",
        "      if (i == 0):\n",
        "        number_inputs = input_layer_size\n",
        "      else:\n",
        "        number_inputs = layer_sizes[i-1]\n",
        "      # activation function is Sigmoid for all layers except for the last, where it is Softmax\n",
        "      if (i == self.number_layers-1):\n",
        "        act_function = Softmax()\n",
        "      else:\n",
        "        act_function = Sigmoid()\n",
        "      layers_list.append(\n",
        "        Layer(\n",
        "          layer_size = layer_sizes[i],\n",
        "          input_size = number_inputs,\n",
        "          act_func = act_function\n",
        "        )\n",
        "      )\n",
        "    self.layers = layers_list\n",
        "\n",
        "  def __call__(self, input):\n",
        "    for i, layer in enumerate(self.layers):\n",
        "      preactivation = layer(self.activations[i-1] if i>0 else input)\n",
        "      self.preactivations.append(preactivation)\n",
        "      self.activations.append(layer.act_func(preactivation))\n",
        "    return self.activations[-1]"
      ],
      "metadata": {
        "id": "xp23M6RrQz22"
      },
      "execution_count": 14,
      "outputs": []
    },
    {
      "cell_type": "markdown",
      "source": [
        "## 1.6 CCE Loss Function\n",
        "\n",
        "Implement a categorical cross-entropy loss function for your network. Again, implement it as an object with a call function for the function itself (which again is extended with a backwards function later)."
      ],
      "metadata": {
        "id": "yq8uPGfwxyOI"
      }
    },
    {
      "cell_type": "code",
      "source": [
        "class CCE_Loss():\n",
        "  def __call__(self, prediction, target):\n",
        "    # first, since ln(x) is undefined for negative x, we need to turn negative activation values in the output layer into positive values while retaining the original activation values' distance to the corresponding target\n",
        "    for j, training_example in enumerate(prediction):  # go through all training examples in the minibatch\n",
        "      for i, activation in enumerate(training_example): # go through all output neuron activations the MLP produced for the current training example\n",
        "        if activation < 0:\n",
        "          training_example[i] = target[j,i]+np.abs(target[j,i]+activation)\n",
        "\n",
        "    return -np.sum(target * np.log(prediction), axis=1) # this returns a plain number for each minibatch (ie, an array of shape (minibatch_size,))."
      ],
      "metadata": {
        "id": "cDoDPeR1ykpb"
      },
      "execution_count": 15,
      "outputs": []
    },
    {
      "cell_type": "markdown",
      "source": [
        "## Testing"
      ],
      "metadata": {
        "id": "-1TO99FZsfuy"
      }
    },
    {
      "cell_type": "code",
      "source": [
        "number_layers = 2\n",
        "input_layer_size = 64\n",
        "layers_sizes = [10, 10]\n",
        "test = MLP(number_layers, input_layer_size, layers_sizes)\n",
        "\n",
        "minibatch_size = 2\n",
        "test_output = test(inputs[0:minibatch_size])"
      ],
      "metadata": {
        "id": "e1mlF08nsmqB"
      },
      "execution_count": 16,
      "outputs": []
    },
    {
      "cell_type": "code",
      "source": [
        "print(test_output.shape == (minibatch_size, 10))\n",
        "test_output"
      ],
      "metadata": {
        "colab": {
          "base_uri": "https://localhost:8080/"
        },
        "id": "tR5gJL5du7HH",
        "outputId": "dd640d31-57d9-433d-ce4e-af1ef8408889"
      },
      "execution_count": 17,
      "outputs": [
        {
          "output_type": "stream",
          "name": "stdout",
          "text": [
            "True\n"
          ]
        },
        {
          "output_type": "execute_result",
          "data": {
            "text/plain": [
              "array([[ 0.03167827, -7.30477917,  1.21507944,  2.71649263,  4.87067585,\n",
              "         6.3185848 , -2.85777045,  3.17683445, -4.62555203, -2.54124379],\n",
              "       [ 0.32006645, -1.84317855,  0.14510835,  0.60646536,  0.86617059,\n",
              "         1.67858057, -0.43167617,  0.84455669, -0.71878625, -0.46730703]])"
            ]
          },
          "metadata": {},
          "execution_count": 17
        }
      ]
    },
    {
      "cell_type": "code",
      "source": [
        "print(targets_oh[0:minibatch_size])"
      ],
      "metadata": {
        "colab": {
          "base_uri": "https://localhost:8080/"
        },
        "id": "odZUxZPeufeI",
        "outputId": "f32bd0f3-96a7-4ec4-f675-bb5886f9e3f7"
      },
      "execution_count": 18,
      "outputs": [
        {
          "output_type": "stream",
          "name": "stdout",
          "text": [
            "[[1. 0. 0. 0. 0. 0. 0. 0. 0. 0.]\n",
            " [0. 1. 0. 0. 0. 0. 0. 0. 0. 0.]]\n"
          ]
        }
      ]
    },
    {
      "cell_type": "code",
      "source": [
        "compute_loss = CCE_Loss()\n",
        "test_loss = compute_loss(prediction=test_output, target=targets_oh[0:minibatch_size])"
      ],
      "metadata": {
        "id": "r39Sraletxrx"
      },
      "execution_count": 25,
      "outputs": []
    },
    {
      "cell_type": "markdown",
      "source": [
        "# 2 Backpropagation"
      ],
      "metadata": {
        "id": "Y9KjmJxM2ciL"
      }
    },
    {
      "cell_type": "markdown",
      "source": [
        "## 3.1 CCE – Backwards"
      ],
      "metadata": {
        "id": "CAjRt_Mnoikm"
      }
    },
    {
      "cell_type": "code",
      "source": [
        "def backwards(self, y_hat, target):\n",
        "  # y_hat, prediction, shape: (minibatchsize, 10)\n",
        "  # target, shape: (minibatchsize, 10)\n",
        "  # return: error signal, shape: (minibatchsize, 10)\n",
        "  #         containing values of error signal dL_CCE/dy_hat_i for each sample in the minibatch\n",
        "  dL_dyhat = target / (np.log(2)*y_hat)\n",
        "\n",
        "  return dL_dyhat # error signal, shape: (minibatchsize, 10)\n",
        "\n",
        "CCE_Loss.backwards = backwards"
      ],
      "metadata": {
        "id": "hZLnPiterBWp"
      },
      "execution_count": 20,
      "outputs": []
    },
    {
      "cell_type": "markdown",
      "source": [
        "## 3.2 Sigmoid – Backwards"
      ],
      "metadata": {
        "id": "pEaXtRWUkMOJ"
      }
    },
    {
      "cell_type": "code",
      "source": [
        "def sigmoid_dash(self, x): # d a / d pre_a\n",
        "  return self.call(x) * (1 - self.call(x))\n",
        "\n",
        "def backwards(self, prea, dL_da): # dL_da = error signal up to this point in the ANN from the back\n",
        "\n",
        "  #  for all samples of the minibatch calculating d a / d pre_a\n",
        "  da_dprea = self.sigmoid_dash(prea)\n",
        "\n",
        "  # calculating d L / d pre_a\n",
        "  # by using the two partial derivatives: d L / d a and d a / d pre_a\n",
        "  # for each sample for each unit the partial derivatives have to be multiplied separately\n",
        "  dL_dprea = dL_da * da_dprea # matrices of same shape: multiplication of values at same position\n",
        "\n",
        "  # for each of the samples in the minibatch (one sample per row)\n",
        "  # in the columns are the error signals up to the preactivations of this layers units\n",
        "  # (column 1: preactivation error signal for unit 1)\n",
        "  return dL_dprea # shape: (minibatchsize, num_units)\n",
        "\n",
        "Sigmoid.sigmoid_dash = sigmoid_dash\n",
        "Sigmoid.backwards = backwards"
      ],
      "metadata": {
        "id": "fSSGpRaCtSGY"
      },
      "execution_count": 21,
      "outputs": []
    },
    {
      "cell_type": "markdown",
      "source": [
        "## 3.3 Weights – Backwards"
      ],
      "metadata": {
        "id": "U9fWLM21lQ_H"
      }
    },
    {
      "cell_type": "code",
      "source": [
        "def weights_backwards(self, dL_dprea, prea):\n",
        "  # dL_dprea shape : (minibatchsize, num_units_currentL)\n",
        "  # prea shape : (minibatchsize, num_units_currentL)\n",
        "\n",
        "  num_units_prevL = self.input_size\n",
        "\n",
        "  # derivating the input of each units preactivation in the current layer with respect to each previous layer unit's activation\n",
        "  # thats just the weight matrix bc all other weights cut out when derivating bc they are constants\n",
        "  # -> how does the preactivation change with respect to the activation of the pervious layer\n",
        "  dprea_daprevL = self.weights # shape = (num_units_currentL, num_units_prevL)\n",
        "\n",
        "  # (minibatchsize, num_units_prevL) = (minibatchsize, num_units_currentL) @ (num_units_currentL, num_units_prevL)\n",
        "  # first to return\n",
        "  dL_daprevL = dL_dprea @ dprea_daprevL\n",
        "\n",
        "\n",
        "  a_prevL = self.activation_prevL # shape = (minibatchsize, inputsize)\n",
        "  dprea_dW = a_prevL\n",
        "\n",
        "  # second to return\n",
        "  dL_dW = dL_dprea @ dprea_dW\n",
        "\n",
        "  return (dL_daprevL, dL_dW)\n",
        "\n",
        "Layer.weights_backwards = weights_backwards"
      ],
      "metadata": {
        "id": "ipduIx4ylZ3t"
      },
      "execution_count": 22,
      "outputs": []
    },
    {
      "cell_type": "markdown",
      "source": [
        "## 3.4 Layer backwards"
      ],
      "metadata": {
        "id": "XF2bx9p4p-B2"
      }
    },
    {
      "cell_type": "code",
      "source": [
        "def backwards(self, layer_output, derivatives):\n",
        "  my_sigmoid = Sigmoid()\n",
        "  return self.weights_backwards(my_sigmoid.backwards(self.preactivations, derivatives[-1]))\n",
        "\n",
        "Layer.backwards = backwards"
      ],
      "metadata": {
        "id": "wVyXAVgvqG_8"
      },
      "execution_count": 23,
      "outputs": []
    },
    {
      "cell_type": "markdown",
      "source": [
        "## 3.5 Gradient Tape and MLP Backwards"
      ],
      "metadata": {
        "id": "IfT33_R8o5Ii"
      }
    },
    {
      "cell_type": "code",
      "source": [
        "def backwards(self, targets):\n",
        "  # first of all, we need to compute the CCE loss\n",
        "  minibatch_size = self.activations[-1].shape[0]\n",
        "  compute_loss = CCE_Loss()\n",
        "  self.losses.append(compute_loss(prediction=self.activations[-1], target=targets_oh[0:minibatch_size]))\n",
        "\n",
        "  # now we can do the backwards steps\n",
        "  derivatives = [\"empty\"] * (self.number_layers+1) # +1 since last spot is reserved for CCE derivative\n",
        "\n",
        "  derivatives[-1] = CCE_Loss.backwards(self=compute_loss, y_hat=self.activations[-1], target=targets[-1])\n",
        "\n",
        "  for i in range(self.number_layers):\n",
        "    idx = self.number_layers-1 - i # backwards indexing\n",
        "    derivatives[idx-1] = self.layers[idx].backwards(self.activations[idx], derivatives)\n",
        "\n",
        "  return derivatives\n",
        "\n",
        "MLP.backwards = backwards"
      ],
      "metadata": {
        "id": "I3PFQLgppVH4"
      },
      "execution_count": 24,
      "outputs": []
    },
    {
      "cell_type": "markdown",
      "source": [
        "## 3.6 Training"
      ],
      "metadata": {
        "id": "I8pwEMKU0fxk"
      }
    },
    {
      "cell_type": "code",
      "source": [
        "def training(mlp, inputs, targets, num_epochs, minibatch_size, learning_rate):\n",
        "    num_minibatches = len(inputs) // minibatch_size\n",
        "\n",
        "    for epoch in range(num_epochs):\n",
        "\n",
        "      for i in range(num_minibatches):\n",
        "        # calculate the indices delimiting the current minibatch\n",
        "        start_idx = i * minibatch_size\n",
        "        end_idx = (i + 1) * minibatch_size\n",
        "\n",
        "        mlp(inputs[start_idx:end_idx]) # all relevant data is stored in internal attributes\n",
        "\n",
        "      # backwards step\n",
        "      derivatives = mlp.backwards(targets)\n",
        "\n",
        "      # update weights\n",
        "      W = learning_rate * np.subtract(W, derivatives[:-1])\n",
        "\n",
        "\n",
        "number_layers = 2\n",
        "input_layer_size = 64\n",
        "layer_sizes = [10, 10]\n",
        "\n",
        "num_epochs = 5\n",
        "minibatch_size = 30\n",
        "learning_rate = 0.2\n",
        "\n",
        "my_mlp = MLP(number_layers, input_layer_size, layer_sizes)\n",
        "training(my_mlp, inputs, targets_oh, num_epochs, minibatch_size, learning_rate)\n",
        "\n",
        "avg_losses = []\n",
        "for i in range(num_epochs):\n",
        "  start_idx = i * num_epochs\n",
        "  end_idx = (i + 1) * num_epochs\n",
        "  avg_losses.append(np.mean(my_mlp.losses[start_idx:end_idx]))\n",
        "\n",
        "fig, ax = plt.subplots()\n",
        "ax.plot(np.array(list(range(num_epochs))), np.array(avg_losses))\n",
        "plt.show()"
      ],
      "metadata": {
        "colab": {
          "base_uri": "https://localhost:8080/",
          "height": 385
        },
        "id": "OWye7Vij0ib9",
        "outputId": "ddec0171-72f1-491b-9846-f721d1588a0f"
      },
      "execution_count": null,
      "outputs": [
        {
          "output_type": "error",
          "ename": "AttributeError",
          "evalue": "ignored",
          "traceback": [
            "\u001b[0;31m---------------------------------------------------------------------------\u001b[0m",
            "\u001b[0;31mAttributeError\u001b[0m                            Traceback (most recent call last)",
            "\u001b[0;32m<ipython-input-215-036982e1aecf>\u001b[0m in \u001b[0;36m<cell line: 29>\u001b[0;34m()\u001b[0m\n\u001b[1;32m     27\u001b[0m \u001b[0;34m\u001b[0m\u001b[0m\n\u001b[1;32m     28\u001b[0m \u001b[0mmy_mlp\u001b[0m \u001b[0;34m=\u001b[0m \u001b[0mMLP\u001b[0m\u001b[0;34m(\u001b[0m\u001b[0mnumber_layers\u001b[0m\u001b[0;34m,\u001b[0m \u001b[0minput_layer_size\u001b[0m\u001b[0;34m,\u001b[0m \u001b[0mlayer_sizes\u001b[0m\u001b[0;34m)\u001b[0m\u001b[0;34m\u001b[0m\u001b[0;34m\u001b[0m\u001b[0m\n\u001b[0;32m---> 29\u001b[0;31m \u001b[0mtraining\u001b[0m\u001b[0;34m(\u001b[0m\u001b[0mmy_mlp\u001b[0m\u001b[0;34m,\u001b[0m \u001b[0minputs\u001b[0m\u001b[0;34m,\u001b[0m \u001b[0mtargets_oh\u001b[0m\u001b[0;34m,\u001b[0m \u001b[0mnum_epochs\u001b[0m\u001b[0;34m,\u001b[0m \u001b[0mminibatch_size\u001b[0m\u001b[0;34m,\u001b[0m \u001b[0mlearning_rate\u001b[0m\u001b[0;34m)\u001b[0m\u001b[0;34m\u001b[0m\u001b[0;34m\u001b[0m\u001b[0m\n\u001b[0m\u001b[1;32m     30\u001b[0m \u001b[0;34m\u001b[0m\u001b[0m\n\u001b[1;32m     31\u001b[0m \u001b[0mavg_losses\u001b[0m \u001b[0;34m=\u001b[0m \u001b[0;34m[\u001b[0m\u001b[0;34m]\u001b[0m\u001b[0;34m\u001b[0m\u001b[0;34m\u001b[0m\u001b[0m\n",
            "\u001b[0;32m<ipython-input-215-036982e1aecf>\u001b[0m in \u001b[0;36mtraining\u001b[0;34m(mlp, inputs, targets, num_epochs, minibatch_size, learning_rate)\u001b[0m\n\u001b[1;32m     12\u001b[0m \u001b[0;34m\u001b[0m\u001b[0m\n\u001b[1;32m     13\u001b[0m       \u001b[0;31m# backwards step\u001b[0m\u001b[0;34m\u001b[0m\u001b[0;34m\u001b[0m\u001b[0m\n\u001b[0;32m---> 14\u001b[0;31m       \u001b[0mderivatives\u001b[0m \u001b[0;34m=\u001b[0m \u001b[0mmlp\u001b[0m\u001b[0;34m.\u001b[0m\u001b[0mbackwards\u001b[0m\u001b[0;34m(\u001b[0m\u001b[0mtargets\u001b[0m\u001b[0;34m)\u001b[0m\u001b[0;34m\u001b[0m\u001b[0;34m\u001b[0m\u001b[0m\n\u001b[0m\u001b[1;32m     15\u001b[0m \u001b[0;34m\u001b[0m\u001b[0m\n\u001b[1;32m     16\u001b[0m       \u001b[0;31m# update weights\u001b[0m\u001b[0;34m\u001b[0m\u001b[0;34m\u001b[0m\u001b[0m\n",
            "\u001b[0;32m<ipython-input-214-e0a94c0b8846>\u001b[0m in \u001b[0;36mbackwards\u001b[0;34m(self, targets)\u001b[0m\n\u001b[1;32m     12\u001b[0m   \u001b[0;32mfor\u001b[0m \u001b[0mi\u001b[0m \u001b[0;32min\u001b[0m \u001b[0mrange\u001b[0m\u001b[0;34m(\u001b[0m\u001b[0mself\u001b[0m\u001b[0;34m.\u001b[0m\u001b[0mnumber_layers\u001b[0m\u001b[0;34m)\u001b[0m\u001b[0;34m:\u001b[0m\u001b[0;34m\u001b[0m\u001b[0;34m\u001b[0m\u001b[0m\n\u001b[1;32m     13\u001b[0m     \u001b[0midx\u001b[0m \u001b[0;34m=\u001b[0m \u001b[0mself\u001b[0m\u001b[0;34m.\u001b[0m\u001b[0mnumber_layers\u001b[0m\u001b[0;34m-\u001b[0m\u001b[0;36m1\u001b[0m \u001b[0;34m-\u001b[0m \u001b[0mi\u001b[0m \u001b[0;31m# backwards indexing\u001b[0m\u001b[0;34m\u001b[0m\u001b[0;34m\u001b[0m\u001b[0m\n\u001b[0;32m---> 14\u001b[0;31m     \u001b[0mderivatives\u001b[0m\u001b[0;34m[\u001b[0m\u001b[0midx\u001b[0m\u001b[0;34m-\u001b[0m\u001b[0;36m1\u001b[0m\u001b[0;34m]\u001b[0m \u001b[0;34m=\u001b[0m \u001b[0mself\u001b[0m\u001b[0;34m.\u001b[0m\u001b[0mlayers\u001b[0m\u001b[0;34m[\u001b[0m\u001b[0midx\u001b[0m\u001b[0;34m]\u001b[0m\u001b[0;34m.\u001b[0m\u001b[0mbackwards\u001b[0m\u001b[0;34m(\u001b[0m\u001b[0mself\u001b[0m\u001b[0;34m.\u001b[0m\u001b[0mactivations\u001b[0m\u001b[0;34m[\u001b[0m\u001b[0midx\u001b[0m\u001b[0;34m]\u001b[0m\u001b[0;34m,\u001b[0m \u001b[0mderivatives\u001b[0m\u001b[0;34m)\u001b[0m\u001b[0;34m\u001b[0m\u001b[0;34m\u001b[0m\u001b[0m\n\u001b[0m\u001b[1;32m     15\u001b[0m \u001b[0;34m\u001b[0m\u001b[0m\n\u001b[1;32m     16\u001b[0m   \u001b[0;32mreturn\u001b[0m \u001b[0mderivatives\u001b[0m\u001b[0;34m\u001b[0m\u001b[0;34m\u001b[0m\u001b[0m\n",
            "\u001b[0;32m<ipython-input-213-57fb98a42eb6>\u001b[0m in \u001b[0;36mbackwards\u001b[0;34m(self, layer_output, derivatives)\u001b[0m\n\u001b[1;32m      1\u001b[0m \u001b[0;32mdef\u001b[0m \u001b[0mbackwards\u001b[0m\u001b[0;34m(\u001b[0m\u001b[0mself\u001b[0m\u001b[0;34m,\u001b[0m \u001b[0mlayer_output\u001b[0m\u001b[0;34m,\u001b[0m \u001b[0mderivatives\u001b[0m\u001b[0;34m)\u001b[0m\u001b[0;34m:\u001b[0m\u001b[0;34m\u001b[0m\u001b[0;34m\u001b[0m\u001b[0m\n\u001b[1;32m      2\u001b[0m   \u001b[0mmy_sigmoid\u001b[0m \u001b[0;34m=\u001b[0m \u001b[0mSigmoid\u001b[0m\u001b[0;34m(\u001b[0m\u001b[0;34m)\u001b[0m\u001b[0;34m\u001b[0m\u001b[0;34m\u001b[0m\u001b[0m\n\u001b[0;32m----> 3\u001b[0;31m   \u001b[0;32mreturn\u001b[0m \u001b[0mself\u001b[0m\u001b[0;34m.\u001b[0m\u001b[0mweights_backwards\u001b[0m\u001b[0;34m(\u001b[0m\u001b[0mmy_sigmoid\u001b[0m\u001b[0;34m.\u001b[0m\u001b[0mbackwards\u001b[0m\u001b[0;34m(\u001b[0m\u001b[0mself\u001b[0m\u001b[0;34m.\u001b[0m\u001b[0mpreactivations\u001b[0m\u001b[0;34m,\u001b[0m \u001b[0mderivatives\u001b[0m\u001b[0;34m[\u001b[0m\u001b[0;34m-\u001b[0m\u001b[0;36m1\u001b[0m\u001b[0;34m]\u001b[0m\u001b[0;34m)\u001b[0m\u001b[0;34m)\u001b[0m\u001b[0;34m\u001b[0m\u001b[0;34m\u001b[0m\u001b[0m\n\u001b[0m\u001b[1;32m      4\u001b[0m \u001b[0;34m\u001b[0m\u001b[0m\n\u001b[1;32m      5\u001b[0m \u001b[0mLayer\u001b[0m\u001b[0;34m.\u001b[0m\u001b[0mbackwards\u001b[0m \u001b[0;34m=\u001b[0m \u001b[0mbackwards\u001b[0m\u001b[0;34m\u001b[0m\u001b[0;34m\u001b[0m\u001b[0m\n",
            "\u001b[0;31mAttributeError\u001b[0m: 'Layer' object has no attribute 'preactivations'"
          ]
        }
      ]
    }
  ]
}